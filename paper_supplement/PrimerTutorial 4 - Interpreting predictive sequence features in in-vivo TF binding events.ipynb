{
 "cells": [
  {
   "cell_type": "markdown",
   "metadata": {},
   "source": [
    "# How to train your DragoNN tutorial 4: \n",
    "## Interpreting predictive sequence features in in-vivo TF binding events\n",
    "\n",
    "This tutorial is a supplement to the DragoNN manuscript and follows figure 8 in the manuscript. \n",
    "\n",
    "This tutorial will take 2 - 3 hours if executed on a GPU.\n",
    "\n",
    "## Outline<a name='outline'>\n",
    "<ol>\n",
    "    <li><a href=#1>Input data</a></li>\n",
    "    <li><a href=#2>Generating positive and negative bins for genome-wide training </a></li>\n",
    "    <li><a href=#3>Challenges of in vivo data : batch generators and class upsampling </a></li>\n",
    "    <li><a href=#4>Case 1: Negatives consist of shuffled references, single-tasked models</a></li>  \n",
    "    <li><a href=#5>Case 2: Whole-genome negatives, single-tasked models </a></li>\n",
    "    <li><a href=#6>Case 3: Whole-genome negatives, multi-tasked models </a></li>\n",
    "    <li><a href=#7>Case 4: What happens if we don't upsample positive examples in our batches? </a></li>\n",
    "    <li><a href=#8>Genome-wide interpretation of true positive predictions in SPI1, with DeepLIFT </a></li>\n",
    "    <li><a href=#9>Conclusions</a></li>    \n",
    "</ol>\n",
    "Github issues on the dragonn repository with feedback, questions, and discussion are always welcome.\n"
   ]
  },
  {
   "cell_type": "code",
   "execution_count": 1,
   "metadata": {},
   "outputs": [],
   "source": [
    "#uncomment the lines below if you are running this tutorial from Google Colab \n",
    "#!pip install https://github.com/kundajelab/simdna/archive/0.3.zip\n",
    "#!pip install https://github.com/kundajelab/dragonn/archive/keras_2.2_tensorflow_1.6_purekeras.zip"
   ]
  },
  {
   "cell_type": "code",
   "execution_count": 2,
   "metadata": {},
   "outputs": [],
   "source": [
    "# Making sure our results are reproducible\n",
    "from numpy.random import seed\n",
    "seed(1234)\n",
    "from tensorflow import set_random_seed\n",
    "set_random_seed(1234)"
   ]
  },
  {
   "cell_type": "code",
   "execution_count": 3,
   "metadata": {},
   "outputs": [
    {
     "name": "stderr",
     "output_type": "stream",
     "text": [
      "Using TensorFlow backend.\n",
      "/users/annashch/miniconda3/lib/python3.6/site-packages/sklearn/ensemble/weight_boosting.py:29: DeprecationWarning: numpy.core.umath_tests is an internal NumPy module and should not be imported. It will be removed in a future NumPy release.\n",
      "  from numpy.core.umath_tests import inner1d\n"
     ]
    }
   ],
   "source": [
    "#load dragonn tutorial utilities \n",
    "%reload_ext autoreload\n",
    "%autoreload 2\n",
    "%matplotlib inline\n",
    "import warnings\n",
    "warnings.filterwarnings('ignore')\n",
    "\n",
    "\n",
    "from dragonn.tutorial_utils import *\n"
   ]
  },
  {
   "cell_type": "markdown",
   "metadata": {},
   "source": [
    "## Input data <a name='1'>\n",
    "<a href=#outline>Home</a>\n",
    "\n",
    "Tutorials 1 - 3 have used simulated data generated with the simdna package. In this tutorial, we will examine how well CNN's are able to predict transcription factor binding for four TF's in vivo. \n",
    "\n",
    "We will learn to predict transcription factor binding for four transcription factors in the GM12878 cell line (one of the Tier 1 cell lines for the ENCODE project). First, we download the narrowPeak bed files for each of these transcription factors. You can skip the following code block if you already have the data downloaded. "
   ]
  },
  {
   "cell_type": "code",
   "execution_count": null,
   "metadata": {},
   "outputs": [],
   "source": [
    "## CTCF, optimal IDR thresholded peaks, Stam Lab, hg19\n",
    "# https://www.encodeproject.org/experiments/ENCSR000DRZ/\n",
    "!wget https://www.encodeproject.org/files/ENCFF473RXY/@@download/ENCFF473RXY.bed.gz \n",
    "\n",
    "## SPI1, optimal IDR thresholded peaks, Myers lab, hg19\n",
    "# https://www.encodeproject.org/experiments/ENCSR000BGQ/\n",
    "!wget https://www.encodeproject.org/files/ENCFF002CHQ/@@download/ENCFF002CHQ.bed.gz\n",
    "    \n",
    "## ZNF143, optimal IDR thresholded peaks, Snyder lab, hg19\n",
    "#https://www.encodeproject.org/experiments/ENCSR936XTK/\n",
    "!wget https://www.encodeproject.org/files/ENCFF544NXC/@@download/ENCFF544NXC.bed.gz\n",
    "\n",
    "## SIX5, optimal IDR thresholded peaks, Myers Lab, hg19\n",
    "# https://www.encodeproject.org/experiments/ENCSR000BJE/\n",
    "!wget https://www.encodeproject.org/files/ENCFF606WUV/@@download/ENCFF606WUV.bed.gz\n",
    "\n",
    "## Download the hg19 chromsizes file (We only use chroms 1 -22, X, Y for training)\n",
    "!wget https://github.com/kundajelab/dragonn/blob/keras_2.2_tensorflow_1.6_purekeras/paper_supplement/hg19.chrom.sizes\n",
    "    \n",
    "## Download the hg19 fasta reference genome (and corresponding .fai index)\n",
    "!wget http://mitra.stanford.edu/kundaje/projects/dragonn/hg19.genome.fa.gz\n",
    "!wget http://mitra.stanford.edu/kundaje/projects/dragonn/hg19.genome.fa.fai \n"
   ]
  },
  {
   "cell_type": "markdown",
   "metadata": {},
   "source": [
    "## Generating positive and negative bins for genome-wide training <a name='2'>\n",
    "<a href=#outline>Home</a>"
   ]
  },
  {
   "cell_type": "markdown",
   "metadata": {},
   "source": [
    "We will use the *genomewide_labels* function from the  [seqdataloader](https://github.com/kundajelab/seqdataloader) package to generate positive and negative labels for the TF-ChIPseq peaks across the genome. We will treat each sample as a task for the model and compare the performance of the model on SPI1 task in the single-tasked and multi-tasked setting."
   ]
  },
  {
   "cell_type": "code",
   "execution_count": 4,
   "metadata": {},
   "outputs": [],
   "source": [
    "from seqdataloader import * "
   ]
  },
  {
   "cell_type": "code",
   "execution_count": 5,
   "metadata": {},
   "outputs": [
    {
     "name": "stdout",
     "output_type": "stream",
     "text": [
      "SPI1\tENCFF002CHQ.bed.gz\t\r\n",
      "CTCF\tENCFF473RXY.bed.gz\t\r\n",
      "ZNF143\tENCFF544NXC.bed.gz\t\r\n",
      "SIX5\tENCFF606WUV.bed.gz\t\r\n"
     ]
    }
   ],
   "source": [
    "## seqdataloader accepts an input file, which we call tasks.tsv, with task names in column 1 and the corresponding\n",
    "## peak files in column 2 \n",
    "!cat tasks.tsv "
   ]
  },
  {
   "cell_type": "markdown",
   "metadata": {},
   "source": [
    "With the parameter configuration below, seqdataloader splits the genome into 1kb regions, with a stride of 50. Each 1kb region is centered at a 200 bp bin, with a left flank of 400 bases and a right flank of 400 bases. \n",
    "\n",
    "* Each 200 bp bin is labeled as positive if a narrowPeak summit overlaps with it. \n",
    "\n",
    "* The bin is labeled ambiguous (label = -1) and excluded from training if there is some overlap with the narrowPeak, but the peak summit does not lie in that overlap. \n",
    "\n",
    "* The bin is labeled negative if there is no overlap with the narrowPeak. "
   ]
  },
  {
   "cell_type": "code",
   "execution_count": null,
   "metadata": {},
   "outputs": [],
   "source": [
    "#we will include all chromosomes with the exception of 1,2, and 19 in our training set \n",
    "\n",
    "#1) Generate genome-wide negatives in addition to positives \n",
    "train_set_params={\n",
    "    'task_list':\"tasks.tsv\",\n",
    "    'outf':\"TF.train.tsv.gz\",\n",
    "    'output_type':'gzip',\n",
    "    'chrom_sizes':'hg19.chrom.sizes',\n",
    "    'chroms_to_exclude':['chr1','chr2','chr19'],\n",
    "    'bin_stride':50,\n",
    "    'left_flank':400,\n",
    "    'right_flank':400,\n",
    "    'bin_size':200,\n",
    "    'threads':4,\n",
    "    'subthreads':4,\n",
    "    'allow_ambiguous':True,\n",
    "    'labeling_approach':'peak_summit_in_bin_classification'\n",
    "    }\n",
    "genomewide_labels(train_set_params)\n",
    "\n",
    "#2) Extract positive bins for each task for DeepBind training paradigm -- shuffled reference negatives to be \n",
    "#generated on the fly \n",
    "\n",
    "positives_train_set_params={\n",
    "    'store_positives_only':True,\n",
    "    'task_list':\"tasks.tsv\",\n",
    "    'outf':\"positives.TF.train.tsv.gz\",\n",
    "    'output_type':'gzip',\n",
    "    'chrom_sizes':'hg19.chrom.sizes',\n",
    "    'chroms_to_exclude':['chr1','chr2','chr19'],\n",
    "    'bin_stride':50,\n",
    "    'left_flank':400,\n",
    "    'right_flank':400,\n",
    "    'bin_size':200,\n",
    "    'threads':4,\n",
    "    'subthreads':4,\n",
    "    'allow_ambiguous':True,\n",
    "    'labeling_approach':'peak_summit_in_bin_classification'\n",
    "    }\n",
    "genomewide_labels(positives_train_set_params)"
   ]
  },
  {
   "cell_type": "code",
   "execution_count": null,
   "metadata": {},
   "outputs": [],
   "source": [
    "#We will include chromsoome 1 in our validation set \n",
    "\n",
    "#1) Generate genome-wide negatives in addition to positives \n",
    "valid_set_params={'task_list':\"tasks.tsv\",\n",
    "    'outf':\"TF.valid.tsv.gz\",\n",
    "    'output_type':'gzip',\n",
    "    'chrom_sizes':'hg19.chrom.sizes',\n",
    "    'chroms_to_keep':'chr1',\n",
    "    'bin_stride':50,\n",
    "    'left_flank':400,\n",
    "    'right_flank':400,\n",
    "    'bin_size':200,\n",
    "    'threads':1,\n",
    "    'subthreads':4,\n",
    "    'allow_ambiguous':True,\n",
    "    'labeling_approach':'peak_summit_in_bin_classification'\n",
    "    }\n",
    "genomewide_labels(valid_set_params)\n",
    "\n",
    "\n",
    "#2) Extract positive bins for each task for DeepBind training paradigm -- shuffled reference negatives to be \n",
    "#generated on the fly \n",
    "positives_valid_set_params={\n",
    "    'store_positives_only':True,\n",
    "    'task_list':\"tasks.tsv\",\n",
    "    'outf':\"positives.TF.valid.tsv.gz\",\n",
    "    'output_type':'gzip',\n",
    "    'chrom_sizes':'hg19.chrom.sizes',\n",
    "    'chroms_to_keep':'chr1',\n",
    "    'bin_stride':50,\n",
    "    'left_flank':400,\n",
    "    'right_flank':400,\n",
    "    'bin_size':200,\n",
    "    'threads':1,\n",
    "    'subthreads':4,\n",
    "    'allow_ambiguous':True,\n",
    "    'labeling_approach':'peak_summit_in_bin_classification'\n",
    "    }\n",
    "genomewide_labels(positives_valid_set_params)\n"
   ]
  },
  {
   "cell_type": "code",
   "execution_count": null,
   "metadata": {},
   "outputs": [],
   "source": [
    "#We will include chromosomes 2 and 19 in our testing set \n",
    "test_set_params={\n",
    "    'task_list':\"tasks.tsv\",\n",
    "    'outf':\"TF.test.tsv.gz\",\n",
    "    'output_type':'gzip',\n",
    "    'chrom_sizes':'hg19.chrom.sizes',\n",
    "    'chroms_to_keep':['chr2','chr19'],\n",
    "    'bin_stride':50,\n",
    "    'left_flank':400,\n",
    "    'right_flank':400,\n",
    "    'bin_size':200,\n",
    "    'threads':2,\n",
    "    'subthreads':4,\n",
    "    'allow_ambiguous':True,\n",
    "    'labeling_approach':'peak_summit_in_bin_classification'\n",
    "    }\n",
    "genomewide_labels(test_set_params)\n",
    "\n",
    "#2) Extract positive bins for each task for DeepBind training paradigm -- shuffled reference negatives to be \n",
    "#generated on the fly \n",
    "positives_test_set_params={\n",
    "    'store_positives_only':True,\n",
    "    'task_list':\"tasks.tsv\",\n",
    "    'outf':\"positives.TF.test.tsv.gz\",\n",
    "    'output_type':'gzip',\n",
    "    'chrom_sizes':'hg19.chrom.sizes',\n",
    "    'chroms_to_keep':['chr2','chr19'],\n",
    "    'bin_stride':50,\n",
    "    'left_flank':400,\n",
    "    'right_flank':400,\n",
    "    'bin_size':200,\n",
    "    'threads':2,\n",
    "    'subthreads':4,\n",
    "    'allow_ambiguous':True,\n",
    "    'labeling_approach':'peak_summit_in_bin_classification'\n",
    "    }\n",
    "genomewide_labels(positives_test_set_params)\n"
   ]
  },
  {
   "cell_type": "markdown",
   "metadata": {},
   "source": [
    "Let's examine the files that were generated: "
   ]
  },
  {
   "cell_type": "code",
   "execution_count": 6,
   "metadata": {},
   "outputs": [
    {
     "name": "stdout",
     "output_type": "stream",
     "text": [
      "CHR\tSTART\tEND\tSPI1\tCTCF\tZNF143\tSIX5\r\n",
      "chr3\t0\t1000\t0.0\t0.0\t0.0\t0.0\r\n",
      "chr3\t50\t1050\t0.0\t0.0\t0.0\t0.0\r\n",
      "chr3\t100\t1100\t0.0\t0.0\t0.0\t0.0\r\n",
      "chr3\t150\t1150\t0.0\t0.0\t0.0\t0.0\r\n",
      "chr3\t200\t1200\t0.0\t0.0\t0.0\t0.0\r\n",
      "chr3\t250\t1250\t0.0\t0.0\t0.0\t0.0\r\n",
      "chr3\t300\t1300\t0.0\t0.0\t0.0\t0.0\r\n",
      "chr3\t350\t1350\t0.0\t0.0\t0.0\t0.0\r\n",
      "chr3\t400\t1400\t0.0\t0.0\t0.0\t0.0\r\n",
      "chr3\t450\t1450\t0.0\t0.0\t0.0\t0.0\r\n",
      "chr3\t500\t1500\t0.0\t0.0\t0.0\t0.0\r\n",
      "chr3\t550\t1550\t0.0\t0.0\t0.0\t0.0\r\n",
      "chr3\t600\t1600\t0.0\t0.0\t0.0\t0.0\r\n",
      "chr3\t650\t1650\t0.0\t0.0\t0.0\t0.0\r\n",
      "chr3\t700\t1700\t0.0\t0.0\t0.0\t0.0\r\n",
      "chr3\t750\t1750\t0.0\t0.0\t0.0\t0.0\r\n",
      "chr3\t800\t1800\t0.0\t0.0\t0.0\t0.0\r\n",
      "chr3\t850\t1850\t0.0\t0.0\t0.0\t0.0\r\n",
      "chr3\t900\t1900\t0.0\t0.0\t0.0\t0.0\r\n",
      "\r\n",
      "gzip: stdout: Broken pipe\r\n"
     ]
    }
   ],
   "source": [
    "#The code generates bed file outputs with a label of 1,0, or -1 (ambiguous, not to be used for training) for each 1kb\n",
    "# genome bin for each task. Note that the bins are shifted with a stride of 50.\n",
    "!zcat TF.train.tsv.gz| head -n20"
   ]
  },
  {
   "cell_type": "code",
   "execution_count": 7,
   "metadata": {},
   "outputs": [
    {
     "name": "stdout",
     "output_type": "stream",
     "text": [
      "CHR\tSTART\tEND\tSPI1\r\n",
      "chr3\t260350\t261350\t1.0\r\n",
      "chr3\t260400\t261400\t1.0\r\n",
      "chr3\t260450\t261450\t1.0\r\n",
      "chr3\t260500\t261500\t1.0\r\n",
      "chr3\t319150\t320150\t1.0\r\n",
      "chr3\t319200\t320200\t1.0\r\n",
      "chr3\t319250\t320250\t1.0\r\n",
      "chr3\t319300\t320300\t1.0\r\n",
      "chr3\t320050\t321050\t1.0\r\n",
      "chr3\t320100\t321100\t1.0\r\n",
      "chr3\t320150\t321150\t1.0\r\n",
      "chr3\t320200\t321200\t1.0\r\n",
      "chr3\t331250\t332250\t1.0\r\n",
      "chr3\t331300\t332300\t1.0\r\n",
      "chr3\t331350\t332350\t1.0\r\n",
      "chr3\t331400\t332400\t1.0\r\n",
      "chr3\t505600\t506600\t1.0\r\n",
      "chr3\t505650\t506650\t1.0\r\n",
      "chr3\t505700\t506700\t1.0\r\n",
      "\r\n",
      "gzip: stdout: Broken pipe\r\n"
     ]
    }
   ],
   "source": [
    "# When provided with the --store-positives_only flag, the code generates all bins for each task that are labeled positive.\n",
    "!zcat SPI1.positives.TF.train.tsv.gz | head -n20"
   ]
  },
  {
   "cell_type": "markdown",
   "metadata": {},
   "source": [
    "## Challenges of in vivo data : batch generators and class upsampling <a name='3'>\n",
    "<a href=#outline>Home</a>\n",
    "In tutorials 1 - 3, we used the [keras fit](https://keras.io/models/sequential/#fit) function to train a CNN. However, when working with real data we face two new challenges: \n",
    "\n",
    "1) The dataset is much bigger. In our training set, there are 50,881,560 1kb bins, in our validation set, there are 4,984,994 bins, and in our test set there are 6,046,529 bins. Loading this dataset into memory to pass as numpy array to the CNN code will require more memory than is available on many machines. Consequently, we use the [keras fit_generator](https://keras.io/models/sequential/#fit_generator) function to limit the memory footprint. This function reads in one batch of training and one batch of validation data at a time from a python generator. in dragonn.generators, we provide several python generator functions to match the scenarios below. "
   ]
  },
  {
   "cell_type": "code",
   "execution_count": 28,
   "metadata": {},
   "outputs": [],
   "source": [
    "from dragonn.generators import * "
   ]
  },
  {
   "cell_type": "markdown",
   "metadata": {},
   "source": [
    "2) The dataset is highly imbalanced. Of the 50,881,560 1kb bins in the training set, only \n",
    "\n",
    "* 136,279 are labeled positive for the SPI1 task (372 negatives: 1 positive )\n",
    "\n",
    "* 131,245 are labeled positive for the CTCF task (387 negatives: 1 positive ) \n",
    "\n",
    "* 93,981 are labeled positive for the ZNF143 task (540 negatives: 1 positive ) \n",
    "\n",
    "* 15,641 are labeled positive for the SIX5 task (3252 negatives: 1 positive ) \n",
    "\n",
    "The class imbalance is far too high for the model to learn unassisted. Hence, we upsample the positive bins to include in each batch with the \"upsample\" argument to data_generator. The upsample argument accepts a fraction between 0 and 1 and ensures that this fraction of the batch consists of positive bins. \n"
   ]
  },
  {
   "cell_type": "code",
   "execution_count": 43,
   "metadata": {},
   "outputs": [],
   "source": [
    "#To prepare for model training, we import the necessary functions and submodules from keras\n",
    "from keras.models import Sequential\n",
    "from keras.layers.core import Dropout, Reshape, Dense, Activation, Flatten\n",
    "from keras.layers.convolutional import Conv2D, MaxPooling2D\n",
    "from keras.optimizers import Adadelta, SGD, RMSprop;\n",
    "import keras.losses;\n",
    "from keras.constraints import maxnorm;\n",
    "from keras.layers.normalization import BatchNormalization\n",
    "from keras.regularizers import l1, l2\n",
    "from keras.callbacks import EarlyStopping, History\n",
    "from keras import backend as K \n",
    "K.set_image_data_format('channels_last')"
   ]
  },
  {
   "cell_type": "code",
   "execution_count": 54,
   "metadata": {},
   "outputs": [],
   "source": [
    "from concise.metrics import * \n",
    "def initialize_model(ntasks=1):\n",
    "    #Define the model architecture in keras (regularized, 3-layer convolution model followed by 1 dense layer)\n",
    "    model=Sequential() \n",
    "    model.add(Conv2D(filters=15,kernel_size=(1,10),input_shape=(1,1000,4)))\n",
    "    model.add(Activation('relu'))\n",
    "    model.add(Dropout(0.2))\n",
    "    model.add(MaxPooling2D(pool_size=(1,35)))\n",
    "\n",
    "    model.add(Conv2D(filters=15,kernel_size=(1,10)))\n",
    "    model.add(Activation('relu'))\n",
    "    model.add(Dropout(0.2))\n",
    "\n",
    "    model.add(Conv2D(filters=15,kernel_size=(1,10)))\n",
    "    model.add(Activation('relu'))\n",
    "    model.add(Dropout(0.2))\n",
    "\n",
    "    model.add(Flatten())\n",
    "    model.add(Dense(ntasks))\n",
    "    model.add(Activation(\"sigmoid\"))\n",
    "\n",
    "    ##compile the model, specifying the Adam optimizer, and binary cross-entropy loss. \n",
    "    model.compile(optimizer='adam',loss='binary_crossentropy',\n",
    "                  metrics=[tpr,\n",
    "                           tnr,\n",
    "                           fpr,\n",
    "                           fnr,\n",
    "                           precision,\n",
    "                           f1])\n",
    "    return model"
   ]
  },
  {
   "cell_type": "markdown",
   "metadata": {},
   "source": [
    "## Case 1: Negatives consist of shuffled references, single-tasked models<a name='4'>\n",
    "<a href=#outline>Home</a>"
   ]
  },
  {
   "cell_type": "markdown",
   "metadata": {},
   "source": [
    "We begin by training a model on the SPI1 and CTCF dataset with the following specifications: \n",
    "\n",
    "* We use dinucleotide-shuffled positive bins as the negative set. \n",
    "\n",
    "* Each batch contains one-hot encoded 1kb regions from the genome, as well as the one-hot-encoded reverse complement sequences of those regions. \n",
    "\n",
    "* We ensure that at least 10% of the samples in each batch are positives \n",
    "\n",
    "We create generators for the training and validation data to meet these specifications: "
   ]
  },
  {
   "cell_type": "code",
   "execution_count": 59,
   "metadata": {},
   "outputs": [],
   "source": [
    "#create the generators\n",
    "case1_spi1_train_gen=shuffled_ref_generator(\"SPI1.positives.TF.train.tsv.gz\",\"hg19.genome.fa.gz\")\n",
    "case1_spi1_valid_gen=shuffled_ref_generator(\"SPI1.positives.TF.valid.tsv.gz\",\"hg19.genome.fa.gz\")\n",
    "case1_ctcf_train_gen=shuffled_ref_generator(\"CTCF.positives.TF.train.tsv.gz\",\"hg19.genome.fa.gz\")\n",
    "case1_ctcf_valid_gen=shuffled_ref_generator(\"CTCF.positives.TF.valid.tsv.gz\",\"hg19.genome.fa.gz\")\n",
    "\n"
   ]
  },
  {
   "cell_type": "markdown",
   "metadata": {},
   "source": [
    "We now follow the standard protocol we used in tutorials 1 - 3 to train a keras model, with the exception that we use the fit_generator function in keras, rather than the fit function."
   ]
  },
  {
   "cell_type": "code",
   "execution_count": 57,
   "metadata": {},
   "outputs": [
    {
     "name": "stdout",
     "output_type": "stream",
     "text": [
      "Epoch 1/10\n",
      "1000/1000 [==============================] - 262s 262ms/step - loss: 0.2703 - sensitivity: 0.8649 - specificity: 0.8772 - fpr: 0.1228 - fnr: 0.1351 - precision: 0.8868 - f1: 0.8670 - val_loss: 0.2915 - val_sensitivity: 0.9855 - val_specificity: 0.7392 - val_fpr: 0.2608 - val_fnr: 0.0145 - val_precision: 0.8146 - val_f1: 0.8844\n",
      "Epoch 2/10\n",
      "1000/1000 [==============================] - 260s 260ms/step - loss: 0.1148 - sensitivity: 0.9514 - specificity: 0.9607 - fpr: 0.0393 - fnr: 0.0486 - precision: 0.9632 - f1: 0.9550 - val_loss: 0.0700 - val_sensitivity: 1.0000 - val_specificity: 0.9944 - val_fpr: 0.0056 - val_fnr: 0.0000e+00 - val_precision: 0.9945 - val_f1: 0.9972\n",
      "Epoch 3/10\n",
      "1000/1000 [==============================] - 261s 261ms/step - loss: 0.1060 - sensitivity: 0.9547 - specificity: 0.9649 - fpr: 0.0351 - fnr: 0.0453 - precision: 0.9670 - f1: 0.9586 - val_loss: 0.1003 - val_sensitivity: 1.0000 - val_specificity: 0.9283 - val_fpr: 0.0717 - val_fnr: 0.0000e+00 - val_precision: 0.9338 - val_f1: 0.9656\n",
      "Epoch 4/10\n",
      "1000/1000 [==============================] - 261s 261ms/step - loss: 0.0896 - sensitivity: 0.9617 - specificity: 0.9720 - fpr: 0.0280 - fnr: 0.0383 - precision: 0.9733 - f1: 0.9658 - val_loss: 0.0453 - val_sensitivity: 1.0000 - val_specificity: 0.9813 - val_fpr: 0.0187 - val_fnr: 0.0000e+00 - val_precision: 0.9819 - val_f1: 0.9908\n",
      "Epoch 5/10\n",
      "1000/1000 [==============================] - 261s 261ms/step - loss: 0.0235 - sensitivity: 0.9910 - specificity: 0.9922 - fpr: 0.0077 - fnr: 0.0090 - precision: 0.9925 - f1: 0.9915 - val_loss: 0.1075 - val_sensitivity: 1.0000 - val_specificity: 0.9150 - val_fpr: 0.0850 - val_fnr: 0.0000e+00 - val_precision: 0.9224 - val_f1: 0.9595\n",
      "Epoch 6/10\n",
      "1000/1000 [==============================] - 259s 259ms/step - loss: 0.0018 - sensitivity: 0.9998 - specificity: 0.9993 - fpr: 7.0312e-04 - fnr: 2.3438e-04 - precision: 0.9993 - f1: 0.9995 - val_loss: 0.0336 - val_sensitivity: 1.0000 - val_specificity: 0.9730 - val_fpr: 0.0270 - val_fnr: 0.0000e+00 - val_precision: 0.9741 - val_f1: 0.9868\n",
      "Epoch 7/10\n",
      "1000/1000 [==============================] - 260s 260ms/step - loss: 0.0013 - sensitivity: 0.9998 - specificity: 0.9995 - fpr: 5.4687e-04 - fnr: 2.1875e-04 - precision: 0.9995 - f1: 0.9996 - val_loss: 0.0186 - val_sensitivity: 1.0000 - val_specificity: 0.9857 - val_fpr: 0.0143 - val_fnr: 0.0000e+00 - val_precision: 0.9861 - val_f1: 0.9929\n",
      "Epoch 8/10\n",
      "1000/1000 [==============================] - 261s 261ms/step - loss: 0.0014 - sensitivity: 0.9997 - specificity: 0.9995 - fpr: 5.4687e-04 - fnr: 2.9687e-04 - precision: 0.9995 - f1: 0.9996 - val_loss: 0.0439 - val_sensitivity: 1.0000 - val_specificity: 0.9655 - val_fpr: 0.0345 - val_fnr: 0.0000e+00 - val_precision: 0.9671 - val_f1: 0.9832\n",
      "Epoch 9/10\n",
      "1000/1000 [==============================] - 261s 261ms/step - loss: 8.7007e-04 - sensitivity: 0.9998 - specificity: 0.9997 - fpr: 2.8125e-04 - fnr: 2.0312e-04 - precision: 0.9997 - f1: 0.9998 - val_loss: 0.0849 - val_sensitivity: 1.0000 - val_specificity: 0.9366 - val_fpr: 0.0634 - val_fnr: 0.0000e+00 - val_precision: 0.9410 - val_f1: 0.9694\n",
      "Epoch 10/10\n",
      "1000/1000 [==============================] - 259s 259ms/step - loss: 1.2146e-04 - sensitivity: 1.0000 - specificity: 1.0000 - fpr: 3.1250e-05 - fnr: 1.5625e-05 - precision: 1.0000 - f1: 1.0000 - val_loss: 0.0634 - val_sensitivity: 1.0000 - val_specificity: 0.9592 - val_fpr: 0.0408 - val_fnr: 0.0000e+00 - val_precision: 0.9613 - val_f1: 0.9801\n"
     ]
    }
   ],
   "source": [
    "#Train the SPI1 model \n",
    "case1_spi1_model=initialize_model()\n",
    "\n",
    "## use the keras fit_generator function to train the model with early stopping after 3 epochs \n",
    "history_case1_spi1=case1_spi1_model.fit_generator(case1_spi1_train_gen,\n",
    "                                                  validation_data=case1_spi1_valid_gen,\n",
    "                                                  steps_per_epoch=1000,\n",
    "                                                  validation_steps=1000,\n",
    "                                                  epochs=10,\n",
    "                                                  verbose=1,\n",
    "                                                  callbacks=[EarlyStopping(patience=3),History()])"
   ]
  },
  {
   "cell_type": "code",
   "execution_count": 60,
   "metadata": {},
   "outputs": [
    {
     "name": "stdout",
     "output_type": "stream",
     "text": [
      "Epoch 1/10\n",
      "1000/1000 [==============================] - 265s 265ms/step - loss: 0.2997 - sensitivity: 0.8548 - specificity: 0.8449 - fpr: 0.1551 - fnr: 0.1452 - precision: 0.8644 - f1: 0.8517 - val_loss: 0.1482 - val_sensitivity: 0.9132 - val_specificity: 0.9733 - val_fpr: 0.0267 - val_fnr: 0.0868 - val_precision: 0.9730 - val_f1: 0.9396\n",
      "Epoch 2/10\n",
      "1000/1000 [==============================] - 264s 264ms/step - loss: 0.1314 - sensitivity: 0.9424 - specificity: 0.9546 - fpr: 0.0454 - fnr: 0.0576 - precision: 0.9570 - f1: 0.9472 - val_loss: 0.1278 - val_sensitivity: 0.9688 - val_specificity: 0.9583 - val_fpr: 0.0417 - val_fnr: 0.0312 - val_precision: 0.9593 - val_f1: 0.9639\n",
      "Epoch 3/10\n",
      "1000/1000 [==============================] - 264s 264ms/step - loss: 0.1138 - sensitivity: 0.9512 - specificity: 0.9619 - fpr: 0.0381 - fnr: 0.0488 - precision: 0.9638 - f1: 0.9554 - val_loss: 0.0580 - val_sensitivity: 0.9844 - val_specificity: 0.9954 - val_fpr: 0.0046 - val_fnr: 0.0156 - val_precision: 0.9954 - val_f1: 0.9899\n",
      "Epoch 4/10\n",
      "1000/1000 [==============================] - 265s 265ms/step - loss: 0.0868 - sensitivity: 0.9639 - specificity: 0.9717 - fpr: 0.0283 - fnr: 0.0361 - precision: 0.9732 - f1: 0.9672 - val_loss: 0.0575 - val_sensitivity: 1.0000 - val_specificity: 0.9778 - val_fpr: 0.0222 - val_fnr: 0.0000e+00 - val_precision: 0.9786 - val_f1: 0.9891\n",
      "Epoch 5/10\n",
      "1000/1000 [==============================] - 264s 264ms/step - loss: 0.0435 - sensitivity: 0.9861 - specificity: 0.9835 - fpr: 0.0165 - fnr: 0.0139 - precision: 0.9841 - f1: 0.9848 - val_loss: 0.0327 - val_sensitivity: 0.9844 - val_specificity: 0.9967 - val_fpr: 0.0033 - val_fnr: 0.0156 - val_precision: 0.9967 - val_f1: 0.9905\n",
      "Epoch 6/10\n",
      "1000/1000 [==============================] - 264s 264ms/step - loss: 0.0096 - sensitivity: 0.9982 - specificity: 0.9958 - fpr: 0.0042 - fnr: 0.0017 - precision: 0.9959 - f1: 0.9970 - val_loss: 0.0601 - val_sensitivity: 0.9375 - val_specificity: 0.9984 - val_fpr: 0.0016 - val_fnr: 0.0625 - val_precision: 0.9983 - val_f1: 0.9669\n",
      "Epoch 7/10\n",
      "1000/1000 [==============================] - 264s 264ms/step - loss: 0.0062 - sensitivity: 0.9989 - specificity: 0.9973 - fpr: 0.0027 - fnr: 0.0011 - precision: 0.9974 - f1: 0.9981 - val_loss: 0.1364 - val_sensitivity: 0.9062 - val_specificity: 0.9995 - val_fpr: 4.6875e-04 - val_fnr: 0.0938 - val_precision: 0.9995 - val_f1: 0.9506\n",
      "Epoch 8/10\n",
      "1000/1000 [==============================] - 265s 265ms/step - loss: 0.0037 - sensitivity: 0.9993 - specificity: 0.9985 - fpr: 0.0015 - fnr: 6.5625e-04 - precision: 0.9985 - f1: 0.9989 - val_loss: 0.1340 - val_sensitivity: 0.9062 - val_specificity: 0.9996 - val_fpr: 3.7500e-04 - val_fnr: 0.0938 - val_precision: 0.9996 - val_f1: 0.9506\n"
     ]
    }
   ],
   "source": [
    "#Train the CTCF model \n",
    "case1_ctcf_model=initialize_model()\n",
    "\n",
    "## use the keras fit_generator function to train the model with early stopping after 3 epochs \n",
    "history_case1_ctcf=case1_ctcf_model.fit_generator(case1_ctcf_train_gen,\n",
    "                                                  validation_data=case1_ctcf_valid_gen,\n",
    "                                                  steps_per_epoch=1000,\n",
    "                                                  validation_steps=1000,\n",
    "                                                  epochs=10,\n",
    "                                                  verbose=1,\n",
    "                                                  callbacks=[EarlyStopping(patience=3),History()])"
   ]
  },
  {
   "cell_type": "code",
   "execution_count": 62,
   "metadata": {},
   "outputs": [
    {
     "data": {
      "image/png": "[encoded data removed]",
      "text/plain": [
       "<Figure size 720x288 with 1 Axes>"
      ]
     },
     "metadata": {},
     "output_type": "display_data"
    }
   ],
   "source": [
    "## Plot the learning curves for SPI1  \n",
    "from dragonn.tutorial_utils import plot_learning_curve\n",
    "plot_learning_curve(history_case1_spi1)"
   ]
  },
  {
   "cell_type": "code",
   "execution_count": 63,
   "metadata": {},
   "outputs": [
    {
     "data": {
      "image/png": "[encoded data removed]",
      "text/plain": [
       "<Figure size 720x288 with 1 Axes>"
      ]
     },
     "metadata": {},
     "output_type": "display_data"
    }
   ],
   "source": [
    "## Plot the learning curve for CTCF \n",
    "plot_learning_curve(history_case1_ctcf)"
   ]
  },
  {
   "cell_type": "markdown",
   "metadata": {},
   "source": [
    "We now measure how well the models performed by calculating performance metrics on the test splits across the whole genome. "
   ]
  },
  {
   "cell_type": "code",
   "execution_count": 68,
   "metadata": {},
   "outputs": [
    {
     "name": "stdout",
     "output_type": "stream",
     "text": [
      "1000000\n",
      "2000000\n",
      "3000000\n",
      "4000000\n",
      "5000000\n",
      "6000000\n",
      "6046528\n"
     ]
    },
    {
     "ename": "NameError",
     "evalue": "name 'ClassificationResult' is not defined",
     "output_type": "error",
     "traceback": [
      "\u001b[0;31m---------------------------------------------------------------------------\u001b[0m",
      "\u001b[0;31mNameError\u001b[0m                                 Traceback (most recent call last)",
      "\u001b[0;32m<ipython-input-68-8641d11223d3>\u001b[0m in \u001b[0;36m<module>\u001b[0;34m()\u001b[0m\n\u001b[1;32m      8\u001b[0m \u001b[0;34m\u001b[0m\u001b[0m\n\u001b[1;32m      9\u001b[0m \u001b[0;31m## Generate a ClassificationResult object to print performance metrics on held-out test set\u001b[0m\u001b[0;34m\u001b[0m\u001b[0;34m\u001b[0m\u001b[0m\n\u001b[0;32m---> 10\u001b[0;31m \u001b[0mprint\u001b[0m\u001b[0;34m(\u001b[0m\u001b[0mClassificationResult\u001b[0m\u001b[0;34m(\u001b[0m\u001b[0mcase1_spi1_test_truth\u001b[0m\u001b[0;34m,\u001b[0m\u001b[0mcase1_spi1_test_predictions\u001b[0m\u001b[0;34m)\u001b[0m\u001b[0;34m)\u001b[0m\u001b[0;34m\u001b[0m\u001b[0m\n\u001b[0m",
      "\u001b[0;31mNameError\u001b[0m: name 'ClassificationResult' is not defined"
     ]
    }
   ],
   "source": [
    "#We  use a custom batch_predict function to generate predictions on the test set, one batch at a time \n",
    "import dragonn.utils \n",
    "case1_spi1_test_predictions,case1_spi1_test_truth=dragonn.utils.predict(\n",
    "    \"TF.test.tsv.gz\",\n",
    "    \"hg19.genome.fa.gz\",\n",
    "    case1_spi1_model,tasks=['SPI1'],\n",
    "    batch_size=1000000)\n",
    "\n",
    "## Generate a ClassificationResult object to print performance metrics on held-out test set \n",
    "print(ClassificationResult(case1_spi1_test_truth,case1_spi1_test_predictions))\n"
   ]
  },
  {
   "cell_type": "code",
   "execution_count": null,
   "metadata": {},
   "outputs": [],
   "source": [
    "#We  use a custom batch_predict function to generate predictions on the test set, one batch at a time \n",
    "case1_ctcf_test_predictions,case1_ctcf_test_truth=dragonn.utils.predict(\"TF.test.tsv.gz\",\"hg19.genome.fa.gz\",case1_ctcf_model,tasks=[\"CTCF\"],batch_size=1000)\n",
    "\n",
    "## Generate a ClassificationResult object to print performance metrics on held-out test set \n",
    "print(ClassificationResult(case1_ctcf_test_truth,case1_ctcf_test_predictions))\n"
   ]
  },
  {
   "cell_type": "markdown",
   "metadata": {},
   "source": [
    "## Case 2: Whole-genome negatives, single-tasked models <a name='5'>\n",
    "<a href=#outline>Home</a>"
   ]
  },
  {
   "cell_type": "code",
   "execution_count": null,
   "metadata": {},
   "outputs": [],
   "source": [
    "#create the generators\n",
    "case2_spi1_train_gen=data_generator(\"TF.train.tsv.gz\",\"hg19.genome.fa.gz\",tasks=[\"SPI1\"],upsample_ratio=0.1)\n",
    "case2_spi1_valid_gen=data_generator(\"TF.valid.tsv.gz\",\"hg19.genome.fa.gz\",tasks=[\"SPI1\"],upsample_ratio=0.1)\n",
    "case2_ctcf_train_gen=data_generator(\"TF.train.tsv.gz\",\"hg19.genome.fa.gz\",tasks=[\"CTCF\"],upsample_ratio=0.1)\n",
    "case2_ctcf_valid_gen=data_generator(\"TF.valid.tsv.gz\",\"hg19.genome.fa.gz\",tasks=[\"CTCF\"],upsample_ratio=0.1)\n"
   ]
  },
  {
   "cell_type": "code",
   "execution_count": null,
   "metadata": {},
   "outputs": [],
   "source": [
    "#Train the SPI1 model \n",
    "case2_spi1_model=initialize_model()\n",
    "\n",
    "## use the keras fit_generator function to train the model with early stopping after 3 epochs \n",
    "history_case2_spi1=case2_spi1_model.fit_generator(case2_spi1_train_gen,\n",
    "                                                  validation_data=case2_spi1_valid_gen,\n",
    "                                                  steps_per_epoch=1000,\n",
    "                                                  validation_steps=1000,\n",
    "                                                  epochs=10,\n",
    "                                                  verbose=1,\n",
    "                                                  callbacks=[EarlyStopping(patience=3),History()])"
   ]
  },
  {
   "cell_type": "code",
   "execution_count": null,
   "metadata": {},
   "outputs": [],
   "source": [
    "#Train the CTCF model \n",
    "case2_ctcf_model=initialize_model()\n",
    "\n",
    "## use the keras fit_generator function to train the model with early stopping after 3 epochs \n",
    "history_case2_ctcf=case2_ctcf_model.fit_generator(case2_ctcf_train_gen,\n",
    "                                                  validation_data=case2_ctcf_valid_gen,\n",
    "                                                  steps_per_epoch=1000,\n",
    "                                                  validation_steps=1000,\n",
    "                                                  epochs=10,\n",
    "                                                  verbose=1,\n",
    "                                                  callbacks=[EarlyStopping(patience=3),History()])"
   ]
  },
  {
   "cell_type": "code",
   "execution_count": 61,
   "metadata": {},
   "outputs": [
    {
     "ename": "NameError",
     "evalue": "name 'history_case2_spi1' is not defined",
     "output_type": "error",
     "traceback": [
      "\u001b[0;31m---------------------------------------------------------------------------\u001b[0m",
      "\u001b[0;31mNameError\u001b[0m                                 Traceback (most recent call last)",
      "\u001b[0;32m<ipython-input-61-e5bedc2e78f0>\u001b[0m in \u001b[0;36m<module>\u001b[0;34m()\u001b[0m\n\u001b[1;32m      1\u001b[0m \u001b[0;31m## Plot the learning curves for SPI1\u001b[0m\u001b[0;34m\u001b[0m\u001b[0;34m\u001b[0m\u001b[0m\n\u001b[0;32m----> 2\u001b[0;31m \u001b[0mplot_learning_curve\u001b[0m\u001b[0;34m(\u001b[0m\u001b[0mhistory_case2_spi1\u001b[0m\u001b[0;34m)\u001b[0m\u001b[0;34m\u001b[0m\u001b[0m\n\u001b[0m",
      "\u001b[0;31mNameError\u001b[0m: name 'history_case2_spi1' is not defined"
     ]
    }
   ],
   "source": [
    "## Plot the learning curves for SPI1  \n",
    "plot_learning_curve(history_case2_spi1)"
   ]
  },
  {
   "cell_type": "code",
   "execution_count": null,
   "metadata": {},
   "outputs": [],
   "source": [
    "## Plot the learning curves for CTCF  \n",
    "plot_learning_curve(history_case2_ctcf)"
   ]
  },
  {
   "cell_type": "code",
   "execution_count": null,
   "metadata": {},
   "outputs": [],
   "source": [
    "#We  use a custom batch_predict function to generate predictions on the test set, one batch at a time \n",
    "case2_spi1_test_predictions,case2_spi1_test_truth=dragonn.utils.predict(\"TF.test.tsv.gz\",\"hg19.genome.fa.gz\",case2_spi1_model,tasks=['SPI1'],batch_size=1000000)\n",
    "\n",
    "## Generate a ClassificationResult object to print performance metrics on held-out test set \n",
    "print(ClassificationResult(case2_spi1_test_truth,case2_spi1_test_predictions))\n"
   ]
  },
  {
   "cell_type": "code",
   "execution_count": null,
   "metadata": {},
   "outputs": [],
   "source": [
    "#We  use a custom batch_predict function to generate predictions on the test set, one batch at a time \n",
    "case2_ctcf_test_predictions,case2_ctcf_test_truth=dragonn.utils.predict(\"TF.test.tsv.gz\",\"hg19.genome.fa.gz\",case1_ctcf_model,tasks=[\"CTCF\"],batch_size=1000000)\n",
    "\n",
    "## Generate a ClassificationResult object to print performance metrics on held-out test set \n",
    "print(ClassificationResult(ctcf_test_truth,ctcf_test_predictions))\n"
   ]
  },
  {
   "cell_type": "markdown",
   "metadata": {},
   "source": [
    "## Case 3: Whole-genome negatives, multi-tasked models <a name='6'>\n",
    "<a href=#outline>Home</a>"
   ]
  },
  {
   "cell_type": "code",
   "execution_count": null,
   "metadata": {},
   "outputs": [],
   "source": [
    "#create the generators for multi-tasked models. Guarantee 10% positives in each batch \n",
    "case3_train_gen=data_generator(\"TF.train.tsv.gz\",\"hg19.genome.fa.gz\",upsample_ratio=0.1)\n",
    "case3_valid_gen=data_generator(\"TF.valid.tsv.gz\",\"hg19.genome.fa.gz\",upsample_ratio=0.1)"
   ]
  },
  {
   "cell_type": "code",
   "execution_count": null,
   "metadata": {},
   "outputs": [],
   "source": [
    "#Train the SPI1 model \n",
    "case3_model=initialize_model(4)\n",
    "\n",
    "## use the keras fit_generator function to train the model with early stopping after 3 epochs \n",
    "history_case3=case3_model.fit_generator(case3_train_gen,\n",
    "                                        validation_data=case3_valid_gen,\n",
    "                                        steps_per_epoch=1000,\n",
    "                                        validation_steps=1000,\n",
    "                                        epochs=10,\n",
    "                                        verbose=1,\n",
    "                                        callbacks=[EarlyStopping(patience=3),History()])"
   ]
  },
  {
   "cell_type": "code",
   "execution_count": null,
   "metadata": {},
   "outputs": [],
   "source": [
    "## Plot the learning curves for the multi-tasked model   \n",
    "plot_learning_curve(history_case3)"
   ]
  },
  {
   "cell_type": "code",
   "execution_count": null,
   "metadata": {},
   "outputs": [],
   "source": [
    "#We  use a custom batch_predict function to generate predictions on the test set, one batch at a time \n",
    "case3_predictions,case3_test_truth=dragonn.utils.predict(\"TF.test.tsv.gz\",\"hg19.genome.fa.gz\",case3_model,batch_size=1000000)\n",
    "\n",
    "## Generate a ClassificationResult object to print performance metrics on held-out test set \n",
    "print(ClassificationResult(case3_test_truth,case3_test_predictions))\n"
   ]
  },
  {
   "cell_type": "markdown",
   "metadata": {},
   "source": [
    "## Case 4: What happens if we don't upsample positive examples in our batches? <a name='7'>\n",
    "<a href=#outline>Home</a>"
   ]
  },
  {
   "cell_type": "code",
   "execution_count": null,
   "metadata": {},
   "outputs": [],
   "source": [
    "#create the generators\n",
    "case4_spi1_train_gen=data_generator(\"TF.train.tsv.gz\",\"hg19.genome.fa.gz\",tasks=[\"SPI1\"],upsample=False)\n",
    "case4_spi1_valid_gen=data_generator(\"TF.valid.tsv.gz\",\"hg19.genome.fa.gz\",tasks=[\"SPI1\"],upsample=False)"
   ]
  },
  {
   "cell_type": "code",
   "execution_count": null,
   "metadata": {},
   "outputs": [],
   "source": [
    "#Train the SPI1 model \n",
    "case4_spi1_model=initialize_model()\n",
    "\n",
    "## use the keras fit_generator function to train the model with early stopping after 3 epochs \n",
    "history_case4_spi1=case4_spi1_model.fit_generator(case4_spi1_train_gen,\n",
    "                                                  validation_data=case4_spi1_valid_gen,\n",
    "                                                  steps_per_epoch=1000,\n",
    "                                                  validation_steps=1000,\n",
    "                                                  epochs=10,\n",
    "                                                  verbose=1,\n",
    "                                                  callbacks=[EarlyStopping(patience=3),History()])"
   ]
  },
  {
   "cell_type": "code",
   "execution_count": null,
   "metadata": {},
   "outputs": [],
   "source": [
    "## Plot the learning curves for SPI1  \n",
    "plot_learning_curve(history_case4_spi1)"
   ]
  },
  {
   "cell_type": "code",
   "execution_count": null,
   "metadata": {},
   "outputs": [],
   "source": [
    "#We  use a custom batch_predict function to generate predictions on the test set, one batch at a time \n",
    "case4_spi1_test_predictions,case4_spi1_test_truth=dragonn.utils.predict(\"TF.test.tsv.gz\",\"hg19.genome.fa.gz\",case4_spi1_model,tasks=['SPI1'],batch_size=1000000)\n",
    "\n",
    "## Generate a ClassificationResult object to print performance metrics on held-out test set \n",
    "print(ClassificationResult(case4_spi1_test_truth,case4_spi1_test_predictions))\n"
   ]
  },
  {
   "cell_type": "markdown",
   "metadata": {},
   "source": [
    "## Genome-wide interpretation of true positive predictions in SPI1, with DeepLIFT <a name='8'>\n",
    "<a href=#outline>Home</a>\n"
   ]
  },
  {
   "cell_type": "code",
   "execution_count": null,
   "metadata": {},
   "outputs": [],
   "source": []
  },
  {
   "cell_type": "markdown",
   "metadata": {},
   "source": [
    "## Conclusions <a name='9'>\n",
    "<a href=#outline>Home</a>"
   ]
  },
  {
   "cell_type": "code",
   "execution_count": null,
   "metadata": {},
   "outputs": [],
   "source": []
  },
  {
   "cell_type": "code",
   "execution_count": null,
   "metadata": {},
   "outputs": [],
   "source": []
  }
 ],
 "metadata": {
  "kernelspec": {
   "display_name": "Python 3",
   "language": "python",
   "name": "python3"
  },
  "language_info": {
   "codemirror_mode": {
    "name": "ipython",
    "version": 3
   },
   "file_extension": ".py",
   "mimetype": "text/x-python",
   "name": "python",
   "nbconvert_exporter": "python",
   "pygments_lexer": "ipython3",
   "version": "3.6.5"
  }
 },
 "nbformat": 4,
 "nbformat_minor": 2
}
