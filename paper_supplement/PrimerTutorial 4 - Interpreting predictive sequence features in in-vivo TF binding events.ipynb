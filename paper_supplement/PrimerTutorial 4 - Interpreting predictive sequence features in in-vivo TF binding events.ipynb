{
 "cells": [
  {
   "cell_type": "markdown",
   "metadata": {},
   "source": [
    "# How to train your DragoNN tutorial 4: \n",
    "## Interpreting predictive sequence features in in-vivo TF binding events\n",
    "\n",
    "This tutorial is a supplement to the DragoNN manuscript and follows figure 8 in the manuscript. \n",
    "\n",
    "This tutorial will take 2 - 3 hours if executed on a GPU.\n",
    "\n",
    "## Outline<a name='outline'>\n",
    "<ol>\n",
    "    <li><a href=#1>Input data</a></li>\n",
    "    <li><a href=#2>Generating positive and negative bins for genome-wide training </a></li>\n",
    "    <li><a href=#3>Challenges of in vivo data : batch generators and class upsampling </a></li>\n",
    "    <li><a href=#3.5>Optional: Download pre-generated models and test-set predictions </a></li>\n",
    "    <li><a href=#4>Case 1: Negatives consist of shuffled references, single-tasked models</a></li>  \n",
    "    <li><a href=#5>Case 2: Whole-genome negatives, single-tasked models </a></li>\n",
    "    <li><a href=#6>Case 3: Whole-genome negatives, multi-tasked models </a></li>\n",
    "    <li><a href=#7>Case 4: What happens if we don't upsample positive examples in our batches? </a></li>\n",
    "    <li><a href=#8>Genome-wide interpretation of true positive predictions in SPI1, with DeepLIFT </a></li>\n",
    "    <li><a href=#9>Conclusions</a></li>    \n",
    "    <li><a href=#10>Save tutorial outputs</a></li>\n",
    "</ol>\n",
    "Github issues on the [dragonn repository](https://github.com/kundajelab/dragonn) with feedback, questions, and discussion are always welcome.\n"
   ]
  },
  {
   "cell_type": "code",
   "execution_count": 141,
   "metadata": {},
   "outputs": [],
   "source": [
    "#uncomment the lines below if you are running this tutorial from Google Colab \n",
    "#!pip install https://github.com/kundajelab/simdna/archive/0.3.zip\n",
    "#!pip install https://github.com/kundajelab/dragonn/archive/keras_2.2_tensorflow_1.6_purekeras.zip"
   ]
  },
  {
   "cell_type": "code",
   "execution_count": 2,
   "metadata": {},
   "outputs": [
    {
     "name": "stderr",
     "output_type": "stream",
     "text": [
      "/users/annashch/miniconda3/lib/python3.6/importlib/_bootstrap.py:219: RuntimeWarning: numpy.dtype size changed, may indicate binary incompatibility. Expected 96, got 88\n",
      "  return f(*args, **kwds)\n",
      "/users/annashch/miniconda3/lib/python3.6/importlib/_bootstrap.py:219: RuntimeWarning: numpy.dtype size changed, may indicate binary incompatibility. Expected 96, got 88\n",
      "  return f(*args, **kwds)\n"
     ]
    }
   ],
   "source": [
    "# Making sure our results are reproducible\n",
    "from numpy.random import seed\n",
    "seed(1234)\n",
    "from tensorflow import set_random_seed\n",
    "set_random_seed(1234)"
   ]
  },
  {
   "cell_type": "code",
   "execution_count": 3,
   "metadata": {},
   "outputs": [
    {
     "name": "stderr",
     "output_type": "stream",
     "text": [
      "Using TensorFlow backend.\n",
      "/users/annashch/miniconda3/lib/python3.6/site-packages/sklearn/ensemble/weight_boosting.py:29: DeprecationWarning: numpy.core.umath_tests is an internal NumPy module and should not be imported. It will be removed in a future NumPy release.\n",
      "  from numpy.core.umath_tests import inner1d\n"
     ]
    }
   ],
   "source": [
    "#load dragonn tutorial utilities \n",
    "%reload_ext autoreload\n",
    "%autoreload 2\n",
    "%matplotlib inline\n",
    "import warnings\n",
    "warnings.filterwarnings('ignore')\n",
    "\n",
    "\n",
    "from dragonn.tutorial_utils import *"
   ]
  },
  {
   "cell_type": "markdown",
   "metadata": {},
   "source": [
    "## Input data <a name='1'>\n",
    "<a href=#outline>Home</a>\n",
    "\n",
    "Tutorials 1 - 3 have used simulated data generated with the simdna package. In this tutorial, we will examine how well CNN's are able to predict transcription factor binding for four TF's in vivo. \n",
    "\n",
    "We will learn to predict transcription factor binding for four transcription factors in the GM12878 cell line (one of the Tier 1 cell lines for the ENCODE project). First, we download the narrowPeak bed files for each of these transcription factors. You can skip the following code block if you already have the data downloaded. "
   ]
  },
  {
   "cell_type": "code",
   "execution_count": 4,
   "metadata": {},
   "outputs": [],
   "source": [
    "## CTCF, optimal IDR thresholded peaks, Stam Lab, hg19\n",
    "# https://www.encodeproject.org/experiments/ENCSR000DRZ/\n",
    "#!wget https://www.encodeproject.org/files/ENCFF473RXY/@@download/ENCFF473RXY.bed.gz \n",
    "\n",
    "## SPI1, optimal IDR thresholded peaks, Myers lab, hg19\n",
    "# https://www.encodeproject.org/experiments/ENCSR000BGQ/\n",
    "#!wget https://www.encodeproject.org/files/ENCFF002CHQ/@@download/ENCFF002CHQ.bed.gz\n",
    "    \n",
    "## ZNF143, optimal IDR thresholded peaks, Snyder lab, hg19\n",
    "#https://www.encodeproject.org/experiments/ENCSR936XTK/\n",
    "#!wget https://www.encodeproject.org/files/ENCFF544NXC/@@download/ENCFF544NXC.bed.gz\n",
    "\n",
    "## SIX5, optimal IDR thresholded peaks, Myers Lab, hg19\n",
    "# https://www.encodeproject.org/experiments/ENCSR000BJE/\n",
    "#!wget https://www.encodeproject.org/files/ENCFF606WUV/@@download/ENCFF606WUV.bed.gz\n",
    "\n",
    "## Download the hg19 chromsizes file (We only use chroms 1 -22, X, Y for training)\n",
    "#!wget https://github.com/kundajelab/dragonn/blob/keras_2.2_tensorflow_1.6_purekeras/paper_supplement/hg19.chrom.sizes\n",
    "    \n",
    "## Download the hg19 fasta reference genome (and corresponding .fai index)\n",
    "#!wget http://mitra.stanford.edu/kundaje/projects/dragonn/hg19.genome.fa.gz\n",
    "#!wget http://mitra.stanford.edu/kundaje/projects/dragonn/hg19.genome.fa.fai \n"
   ]
  },
  {
   "cell_type": "markdown",
   "metadata": {},
   "source": [
    "## Generating positive and negative bins for genome-wide training <a name='2'>\n",
    "<a href=#outline>Home</a>"
   ]
  },
  {
   "cell_type": "markdown",
   "metadata": {},
   "source": [
    "We will use the *genomewide_labels* function from the  [seqdataloader](https://github.com/kundajelab/seqdataloader) package to generate positive and negative labels for the TF-ChIPseq peaks across the genome. We will treat each sample as a task for the model and compare the performance of the model on SPI1 task in the single-tasked and multi-tasked setting."
   ]
  },
  {
   "cell_type": "code",
   "execution_count": 5,
   "metadata": {},
   "outputs": [],
   "source": [
    "from seqdataloader import * "
   ]
  },
  {
   "cell_type": "code",
   "execution_count": 6,
   "metadata": {},
   "outputs": [
    {
     "name": "stdout",
     "output_type": "stream",
     "text": [
      "SPI1\tENCFF002CHQ.bed.gz\t\r\n",
      "CTCF\tENCFF473RXY.bed.gz\t\r\n",
      "ZNF143\tENCFF544NXC.bed.gz\t\r\n",
      "SIX5\tENCFF606WUV.bed.gz\t\r\n"
     ]
    }
   ],
   "source": [
    "## seqdataloader accepts an input file, which we call tasks.tsv, with task names in column 1 and the corresponding\n",
    "## peak files in column 2 \n",
    "!cat tasks.tsv "
   ]
  },
  {
   "cell_type": "markdown",
   "metadata": {},
   "source": [
    "With the parameter configuration below, seqdataloader splits the genome into 1kb regions, with a stride of 50. Each 1kb region is centered at a 200 bp bin, with a left flank of 400 bases and a right flank of 400 bases. \n",
    "\n",
    "* Each 200 bp bin is labeled as positive if a narrowPeak summit overlaps with it. \n",
    "\n",
    "* The bin is labeled ambiguous (label = -1) and excluded from training if there is some overlap with the narrowPeak, but the peak summit does not lie in that overlap. \n",
    "\n",
    "* The bin is labeled negative if there is no overlap with the narrowPeak. "
   ]
  },
  {
   "cell_type": "code",
   "execution_count": null,
   "metadata": {},
   "outputs": [],
   "source": [
    "#we will include all chromosomes with the exception of 1,2, and 19 in our training set \n",
    "\n",
    "#1) Generate genome-wide negatives in addition to positives \n",
    "train_set_params={\n",
    "    'task_list':\"tasks.tsv\",\n",
    "    'outf':\"TF.train.hdf5\",\n",
    "    'output_type':'hdf5',\n",
    "    'chrom_sizes':'hg19.chrom.sizes',\n",
    "    'chroms_to_exclude':['chr1','chr2','chr19'],\n",
    "    'bin_stride':50,\n",
    "    'left_flank':400,\n",
    "    'right_flank':400,\n",
    "    'bin_size':200,\n",
    "    'threads':4,\n",
    "    'subthreads':4,\n",
    "    'allow_ambiguous':False,\n",
    "    'labeling_approach':'peak_summit_in_bin_classification'\n",
    "    }\n",
    "genomewide_labels(train_set_params)\n",
    "\n",
    "#2) Extract positive bins for each task for DeepBind training paradigm -- shuffled reference negatives to be \n",
    "#generated on the fly \n",
    "\n",
    "positives_train_set_params={\n",
    "    'store_positives_only':True,\n",
    "    'task_list':\"tasks.tsv\",\n",
    "    'outf':\"positives.TF.train.hdf5\",\n",
    "    'output_type':'hdf5',\n",
    "    'chrom_sizes':'hg19.chrom.sizes',\n",
    "    'chroms_to_exclude':['chr1','chr2','chr19'],\n",
    "    'bin_stride':50,\n",
    "    'left_flank':400,\n",
    "    'right_flank':400,\n",
    "    'bin_size':200,\n",
    "    'threads':4,\n",
    "    'subthreads':4,\n",
    "    'allow_ambiguous':False,\n",
    "    'labeling_approach':'peak_summit_in_bin_classification'\n",
    "    }\n",
    "genomewide_labels(positives_train_set_params)"
   ]
  },
  {
   "cell_type": "code",
   "execution_count": null,
   "metadata": {},
   "outputs": [],
   "source": [
    "#We will include chromsome 1 in our validation set \n",
    "\n",
    "#1) Generate genome-wide negatives in addition to positives \n",
    "valid_set_params={'task_list':\"tasks.tsv\",\n",
    "    'outf':\"TF.valid.hdf5\",\n",
    "    'output_type':'hdf5',\n",
    "    'chrom_sizes':'hg19.chrom.sizes',\n",
    "    'chroms_to_keep':'chr1',\n",
    "    'bin_stride':50,\n",
    "    'left_flank':400,\n",
    "    'right_flank':400,\n",
    "    'bin_size':200,\n",
    "    'threads':1,\n",
    "    'subthreads':4,\n",
    "    'allow_ambiguous':False,\n",
    "    'labeling_approach':'peak_summit_in_bin_classification'\n",
    "    }\n",
    "genomewide_labels(valid_set_params)\n",
    "\n",
    "\n",
    "#2) Extract positive bins for each task for DeepBind training paradigm -- shuffled reference negatives to be \n",
    "#generated on the fly \n",
    "positives_valid_set_params={\n",
    "    'store_positives_only':True,\n",
    "    'task_list':\"tasks.tsv\",\n",
    "    'outf':\"positives.TF.valid.hdf5\",\n",
    "    'output_type':'hdf5',\n",
    "    'chrom_sizes':'hg19.chrom.sizes',\n",
    "    'chroms_to_keep':'chr1',\n",
    "    'bin_stride':50,\n",
    "    'left_flank':400,\n",
    "    'right_flank':400,\n",
    "    'bin_size':200,\n",
    "    'threads':1,\n",
    "    'subthreads':4,\n",
    "    'allow_ambiguous':False,\n",
    "    'labeling_approach':'peak_summit_in_bin_classification'\n",
    "    }\n",
    "genomewide_labels(positives_valid_set_params)\n"
   ]
  },
  {
   "cell_type": "code",
   "execution_count": null,
   "metadata": {},
   "outputs": [],
   "source": [
    "#We will include chromosomes 2 and 19 in our testing set \n",
    "test_set_params={\n",
    "    'task_list':\"tasks.tsv\",\n",
    "    'outf':\"TF.test.hdf5\",\n",
    "    'output_type':'hdf5',\n",
    "    'chrom_sizes':'hg19.chrom.sizes',\n",
    "    'chroms_to_keep':['chr2','chr19'],\n",
    "    'bin_stride':50,\n",
    "    'left_flank':400,\n",
    "    'right_flank':400,\n",
    "    'bin_size':200,\n",
    "    'threads':2,\n",
    "    'subthreads':4,\n",
    "    'allow_ambiguous':False,\n",
    "    'labeling_approach':'peak_summit_in_bin_classification'\n",
    "    }\n",
    "genomewide_labels(test_set_params)\n",
    "\n",
    "#2) Extract positive bins for each task for DeepBind training paradigm -- shuffled reference negatives to be \n",
    "#generated on the fly \n",
    "positives_test_set_params={\n",
    "    'store_positives_only':True,\n",
    "    'task_list':\"tasks.tsv\",\n",
    "    'outf':\"positives.TF.test.hdf5\",\n",
    "    'output_type':'hdf5',\n",
    "    'chrom_sizes':'hg19.chrom.sizes',\n",
    "    'chroms_to_keep':['chr2','chr19'],\n",
    "    'bin_stride':50,\n",
    "    'left_flank':400,\n",
    "    'right_flank':400,\n",
    "    'bin_size':200,\n",
    "    'threads':2,\n",
    "    'subthreads':4,\n",
    "    'allow_ambiguous':False,\n",
    "    'labeling_approach':'peak_summit_in_bin_classification'\n",
    "    }\n",
    "genomewide_labels(positives_test_set_params)\n"
   ]
  },
  {
   "cell_type": "markdown",
   "metadata": {},
   "source": [
    "Let's examine the files that were generated: "
   ]
  },
  {
   "cell_type": "code",
   "execution_count": 7,
   "metadata": {},
   "outputs": [
    {
     "data": {
      "text/html": [
       "<div>\n",
       "<style scoped>\n",
       "    .dataframe tbody tr th:only-of-type {\n",
       "        vertical-align: middle;\n",
       "    }\n",
       "\n",
       "    .dataframe tbody tr th {\n",
       "        vertical-align: top;\n",
       "    }\n",
       "\n",
       "    .dataframe thead th {\n",
       "        text-align: right;\n",
       "    }\n",
       "</style>\n",
       "<table border=\"1\" class=\"dataframe\">\n",
       "  <thead>\n",
       "    <tr style=\"text-align: right;\">\n",
       "      <th></th>\n",
       "      <th></th>\n",
       "      <th></th>\n",
       "      <th>SPI1</th>\n",
       "      <th>CTCF</th>\n",
       "      <th>ZNF143</th>\n",
       "      <th>SIX5</th>\n",
       "    </tr>\n",
       "    <tr>\n",
       "      <th>CHR</th>\n",
       "      <th>START</th>\n",
       "      <th>END</th>\n",
       "      <th></th>\n",
       "      <th></th>\n",
       "      <th></th>\n",
       "      <th></th>\n",
       "    </tr>\n",
       "  </thead>\n",
       "  <tbody>\n",
       "    <tr>\n",
       "      <th rowspan=\"10\" valign=\"top\">chr3</th>\n",
       "      <th>0</th>\n",
       "      <th>1000</th>\n",
       "      <td>0.0</td>\n",
       "      <td>0.0</td>\n",
       "      <td>0.0</td>\n",
       "      <td>0.0</td>\n",
       "    </tr>\n",
       "    <tr>\n",
       "      <th>50</th>\n",
       "      <th>1050</th>\n",
       "      <td>0.0</td>\n",
       "      <td>0.0</td>\n",
       "      <td>0.0</td>\n",
       "      <td>0.0</td>\n",
       "    </tr>\n",
       "    <tr>\n",
       "      <th>100</th>\n",
       "      <th>1100</th>\n",
       "      <td>0.0</td>\n",
       "      <td>0.0</td>\n",
       "      <td>0.0</td>\n",
       "      <td>0.0</td>\n",
       "    </tr>\n",
       "    <tr>\n",
       "      <th>150</th>\n",
       "      <th>1150</th>\n",
       "      <td>0.0</td>\n",
       "      <td>0.0</td>\n",
       "      <td>0.0</td>\n",
       "      <td>0.0</td>\n",
       "    </tr>\n",
       "    <tr>\n",
       "      <th>200</th>\n",
       "      <th>1200</th>\n",
       "      <td>0.0</td>\n",
       "      <td>0.0</td>\n",
       "      <td>0.0</td>\n",
       "      <td>0.0</td>\n",
       "    </tr>\n",
       "    <tr>\n",
       "      <th>250</th>\n",
       "      <th>1250</th>\n",
       "      <td>0.0</td>\n",
       "      <td>0.0</td>\n",
       "      <td>0.0</td>\n",
       "      <td>0.0</td>\n",
       "    </tr>\n",
       "    <tr>\n",
       "      <th>300</th>\n",
       "      <th>1300</th>\n",
       "      <td>0.0</td>\n",
       "      <td>0.0</td>\n",
       "      <td>0.0</td>\n",
       "      <td>0.0</td>\n",
       "    </tr>\n",
       "    <tr>\n",
       "      <th>350</th>\n",
       "      <th>1350</th>\n",
       "      <td>0.0</td>\n",
       "      <td>0.0</td>\n",
       "      <td>0.0</td>\n",
       "      <td>0.0</td>\n",
       "    </tr>\n",
       "    <tr>\n",
       "      <th>400</th>\n",
       "      <th>1400</th>\n",
       "      <td>0.0</td>\n",
       "      <td>0.0</td>\n",
       "      <td>0.0</td>\n",
       "      <td>0.0</td>\n",
       "    </tr>\n",
       "    <tr>\n",
       "      <th>450</th>\n",
       "      <th>1450</th>\n",
       "      <td>0.0</td>\n",
       "      <td>0.0</td>\n",
       "      <td>0.0</td>\n",
       "      <td>0.0</td>\n",
       "    </tr>\n",
       "  </tbody>\n",
       "</table>\n",
       "</div>"
      ],
      "text/plain": [
       "                 SPI1  CTCF  ZNF143  SIX5\n",
       "CHR  START END                           \n",
       "chr3 0     1000   0.0   0.0     0.0   0.0\n",
       "     50    1050   0.0   0.0     0.0   0.0\n",
       "     100   1100   0.0   0.0     0.0   0.0\n",
       "     150   1150   0.0   0.0     0.0   0.0\n",
       "     200   1200   0.0   0.0     0.0   0.0\n",
       "     250   1250   0.0   0.0     0.0   0.0\n",
       "     300   1300   0.0   0.0     0.0   0.0\n",
       "     350   1350   0.0   0.0     0.0   0.0\n",
       "     400   1400   0.0   0.0     0.0   0.0\n",
       "     450   1450   0.0   0.0     0.0   0.0"
      ]
     },
     "execution_count": 7,
     "metadata": {},
     "output_type": "execute_result"
    }
   ],
   "source": [
    "#The code generates bed file outputs with a label of 1 or 0 for each 1kb\n",
    "# genome bin for each task. Note that the bins are shifted with a stride of 50.\n",
    "pd.read_hdf(\"TF.train.hdf5\",start=0,stop=10)"
   ]
  },
  {
   "cell_type": "code",
   "execution_count": 8,
   "metadata": {},
   "outputs": [
    {
     "data": {
      "text/html": [
       "<div>\n",
       "<style scoped>\n",
       "    .dataframe tbody tr th:only-of-type {\n",
       "        vertical-align: middle;\n",
       "    }\n",
       "\n",
       "    .dataframe tbody tr th {\n",
       "        vertical-align: top;\n",
       "    }\n",
       "\n",
       "    .dataframe thead th {\n",
       "        text-align: right;\n",
       "    }\n",
       "</style>\n",
       "<table border=\"1\" class=\"dataframe\">\n",
       "  <thead>\n",
       "    <tr style=\"text-align: right;\">\n",
       "      <th></th>\n",
       "      <th></th>\n",
       "      <th></th>\n",
       "      <th>SPI1</th>\n",
       "    </tr>\n",
       "    <tr>\n",
       "      <th>CHR</th>\n",
       "      <th>START</th>\n",
       "      <th>END</th>\n",
       "      <th></th>\n",
       "    </tr>\n",
       "  </thead>\n",
       "  <tbody>\n",
       "    <tr>\n",
       "      <th rowspan=\"10\" valign=\"top\">chr3</th>\n",
       "      <th>260350</th>\n",
       "      <th>261350</th>\n",
       "      <td>1.0</td>\n",
       "    </tr>\n",
       "    <tr>\n",
       "      <th>260400</th>\n",
       "      <th>261400</th>\n",
       "      <td>1.0</td>\n",
       "    </tr>\n",
       "    <tr>\n",
       "      <th>260450</th>\n",
       "      <th>261450</th>\n",
       "      <td>1.0</td>\n",
       "    </tr>\n",
       "    <tr>\n",
       "      <th>260500</th>\n",
       "      <th>261500</th>\n",
       "      <td>1.0</td>\n",
       "    </tr>\n",
       "    <tr>\n",
       "      <th>319150</th>\n",
       "      <th>320150</th>\n",
       "      <td>1.0</td>\n",
       "    </tr>\n",
       "    <tr>\n",
       "      <th>319200</th>\n",
       "      <th>320200</th>\n",
       "      <td>1.0</td>\n",
       "    </tr>\n",
       "    <tr>\n",
       "      <th>319250</th>\n",
       "      <th>320250</th>\n",
       "      <td>1.0</td>\n",
       "    </tr>\n",
       "    <tr>\n",
       "      <th>319300</th>\n",
       "      <th>320300</th>\n",
       "      <td>1.0</td>\n",
       "    </tr>\n",
       "    <tr>\n",
       "      <th>320050</th>\n",
       "      <th>321050</th>\n",
       "      <td>1.0</td>\n",
       "    </tr>\n",
       "    <tr>\n",
       "      <th>320100</th>\n",
       "      <th>321100</th>\n",
       "      <td>1.0</td>\n",
       "    </tr>\n",
       "  </tbody>\n",
       "</table>\n",
       "</div>"
      ],
      "text/plain": [
       "                    SPI1\n",
       "CHR  START  END         \n",
       "chr3 260350 261350   1.0\n",
       "     260400 261400   1.0\n",
       "     260450 261450   1.0\n",
       "     260500 261500   1.0\n",
       "     319150 320150   1.0\n",
       "     319200 320200   1.0\n",
       "     319250 320250   1.0\n",
       "     319300 320300   1.0\n",
       "     320050 321050   1.0\n",
       "     320100 321100   1.0"
      ]
     },
     "execution_count": 8,
     "metadata": {},
     "output_type": "execute_result"
    }
   ],
   "source": [
    "# When provided with the --store-positives_only flag, the code generates all bins for each task that are labeled positive.\n",
    "pd.read_hdf(\"SPI1.positives.TF.train.hdf5\",start=0,stop=10)"
   ]
  },
  {
   "cell_type": "code",
   "execution_count": 9,
   "metadata": {},
   "outputs": [
    {
     "data": {
      "text/html": [
       "<div>\n",
       "<style scoped>\n",
       "    .dataframe tbody tr th:only-of-type {\n",
       "        vertical-align: middle;\n",
       "    }\n",
       "\n",
       "    .dataframe tbody tr th {\n",
       "        vertical-align: top;\n",
       "    }\n",
       "\n",
       "    .dataframe thead th {\n",
       "        text-align: right;\n",
       "    }\n",
       "</style>\n",
       "<table border=\"1\" class=\"dataframe\">\n",
       "  <thead>\n",
       "    <tr style=\"text-align: right;\">\n",
       "      <th></th>\n",
       "      <th></th>\n",
       "      <th></th>\n",
       "      <th>SPI1</th>\n",
       "      <th>CTCF</th>\n",
       "      <th>ZNF143</th>\n",
       "      <th>SIX5</th>\n",
       "    </tr>\n",
       "    <tr>\n",
       "      <th>CHR</th>\n",
       "      <th>START</th>\n",
       "      <th>END</th>\n",
       "      <th></th>\n",
       "      <th></th>\n",
       "      <th></th>\n",
       "      <th></th>\n",
       "    </tr>\n",
       "  </thead>\n",
       "  <tbody>\n",
       "    <tr>\n",
       "      <th rowspan=\"30\" valign=\"top\">chr2</th>\n",
       "      <th>0</th>\n",
       "      <th>1000</th>\n",
       "      <td>0.0</td>\n",
       "      <td>0.0</td>\n",
       "      <td>0.0</td>\n",
       "      <td>0.0</td>\n",
       "    </tr>\n",
       "    <tr>\n",
       "      <th>50</th>\n",
       "      <th>1050</th>\n",
       "      <td>0.0</td>\n",
       "      <td>0.0</td>\n",
       "      <td>0.0</td>\n",
       "      <td>0.0</td>\n",
       "    </tr>\n",
       "    <tr>\n",
       "      <th>100</th>\n",
       "      <th>1100</th>\n",
       "      <td>0.0</td>\n",
       "      <td>0.0</td>\n",
       "      <td>0.0</td>\n",
       "      <td>0.0</td>\n",
       "    </tr>\n",
       "    <tr>\n",
       "      <th>150</th>\n",
       "      <th>1150</th>\n",
       "      <td>0.0</td>\n",
       "      <td>0.0</td>\n",
       "      <td>0.0</td>\n",
       "      <td>0.0</td>\n",
       "    </tr>\n",
       "    <tr>\n",
       "      <th>200</th>\n",
       "      <th>1200</th>\n",
       "      <td>0.0</td>\n",
       "      <td>0.0</td>\n",
       "      <td>0.0</td>\n",
       "      <td>0.0</td>\n",
       "    </tr>\n",
       "    <tr>\n",
       "      <th>250</th>\n",
       "      <th>1250</th>\n",
       "      <td>0.0</td>\n",
       "      <td>0.0</td>\n",
       "      <td>0.0</td>\n",
       "      <td>0.0</td>\n",
       "    </tr>\n",
       "    <tr>\n",
       "      <th>300</th>\n",
       "      <th>1300</th>\n",
       "      <td>0.0</td>\n",
       "      <td>0.0</td>\n",
       "      <td>0.0</td>\n",
       "      <td>0.0</td>\n",
       "    </tr>\n",
       "    <tr>\n",
       "      <th>350</th>\n",
       "      <th>1350</th>\n",
       "      <td>0.0</td>\n",
       "      <td>0.0</td>\n",
       "      <td>0.0</td>\n",
       "      <td>0.0</td>\n",
       "    </tr>\n",
       "    <tr>\n",
       "      <th>400</th>\n",
       "      <th>1400</th>\n",
       "      <td>0.0</td>\n",
       "      <td>0.0</td>\n",
       "      <td>0.0</td>\n",
       "      <td>0.0</td>\n",
       "    </tr>\n",
       "    <tr>\n",
       "      <th>450</th>\n",
       "      <th>1450</th>\n",
       "      <td>0.0</td>\n",
       "      <td>0.0</td>\n",
       "      <td>0.0</td>\n",
       "      <td>0.0</td>\n",
       "    </tr>\n",
       "    <tr>\n",
       "      <th>500</th>\n",
       "      <th>1500</th>\n",
       "      <td>0.0</td>\n",
       "      <td>0.0</td>\n",
       "      <td>0.0</td>\n",
       "      <td>0.0</td>\n",
       "    </tr>\n",
       "    <tr>\n",
       "      <th>550</th>\n",
       "      <th>1550</th>\n",
       "      <td>0.0</td>\n",
       "      <td>0.0</td>\n",
       "      <td>0.0</td>\n",
       "      <td>0.0</td>\n",
       "    </tr>\n",
       "    <tr>\n",
       "      <th>600</th>\n",
       "      <th>1600</th>\n",
       "      <td>0.0</td>\n",
       "      <td>0.0</td>\n",
       "      <td>0.0</td>\n",
       "      <td>0.0</td>\n",
       "    </tr>\n",
       "    <tr>\n",
       "      <th>650</th>\n",
       "      <th>1650</th>\n",
       "      <td>0.0</td>\n",
       "      <td>0.0</td>\n",
       "      <td>0.0</td>\n",
       "      <td>0.0</td>\n",
       "    </tr>\n",
       "    <tr>\n",
       "      <th>700</th>\n",
       "      <th>1700</th>\n",
       "      <td>0.0</td>\n",
       "      <td>0.0</td>\n",
       "      <td>0.0</td>\n",
       "      <td>0.0</td>\n",
       "    </tr>\n",
       "    <tr>\n",
       "      <th>750</th>\n",
       "      <th>1750</th>\n",
       "      <td>0.0</td>\n",
       "      <td>0.0</td>\n",
       "      <td>0.0</td>\n",
       "      <td>0.0</td>\n",
       "    </tr>\n",
       "    <tr>\n",
       "      <th>800</th>\n",
       "      <th>1800</th>\n",
       "      <td>0.0</td>\n",
       "      <td>0.0</td>\n",
       "      <td>0.0</td>\n",
       "      <td>0.0</td>\n",
       "    </tr>\n",
       "    <tr>\n",
       "      <th>850</th>\n",
       "      <th>1850</th>\n",
       "      <td>0.0</td>\n",
       "      <td>0.0</td>\n",
       "      <td>0.0</td>\n",
       "      <td>0.0</td>\n",
       "    </tr>\n",
       "    <tr>\n",
       "      <th>900</th>\n",
       "      <th>1900</th>\n",
       "      <td>0.0</td>\n",
       "      <td>0.0</td>\n",
       "      <td>0.0</td>\n",
       "      <td>0.0</td>\n",
       "    </tr>\n",
       "    <tr>\n",
       "      <th>950</th>\n",
       "      <th>1950</th>\n",
       "      <td>0.0</td>\n",
       "      <td>0.0</td>\n",
       "      <td>0.0</td>\n",
       "      <td>0.0</td>\n",
       "    </tr>\n",
       "    <tr>\n",
       "      <th>1000</th>\n",
       "      <th>2000</th>\n",
       "      <td>0.0</td>\n",
       "      <td>0.0</td>\n",
       "      <td>0.0</td>\n",
       "      <td>0.0</td>\n",
       "    </tr>\n",
       "    <tr>\n",
       "      <th>1050</th>\n",
       "      <th>2050</th>\n",
       "      <td>0.0</td>\n",
       "      <td>0.0</td>\n",
       "      <td>0.0</td>\n",
       "      <td>0.0</td>\n",
       "    </tr>\n",
       "    <tr>\n",
       "      <th>1100</th>\n",
       "      <th>2100</th>\n",
       "      <td>0.0</td>\n",
       "      <td>0.0</td>\n",
       "      <td>0.0</td>\n",
       "      <td>0.0</td>\n",
       "    </tr>\n",
       "    <tr>\n",
       "      <th>1150</th>\n",
       "      <th>2150</th>\n",
       "      <td>0.0</td>\n",
       "      <td>0.0</td>\n",
       "      <td>0.0</td>\n",
       "      <td>0.0</td>\n",
       "    </tr>\n",
       "    <tr>\n",
       "      <th>1200</th>\n",
       "      <th>2200</th>\n",
       "      <td>0.0</td>\n",
       "      <td>0.0</td>\n",
       "      <td>0.0</td>\n",
       "      <td>0.0</td>\n",
       "    </tr>\n",
       "    <tr>\n",
       "      <th>1250</th>\n",
       "      <th>2250</th>\n",
       "      <td>0.0</td>\n",
       "      <td>0.0</td>\n",
       "      <td>0.0</td>\n",
       "      <td>0.0</td>\n",
       "    </tr>\n",
       "    <tr>\n",
       "      <th>1300</th>\n",
       "      <th>2300</th>\n",
       "      <td>0.0</td>\n",
       "      <td>0.0</td>\n",
       "      <td>0.0</td>\n",
       "      <td>0.0</td>\n",
       "    </tr>\n",
       "    <tr>\n",
       "      <th>1350</th>\n",
       "      <th>2350</th>\n",
       "      <td>0.0</td>\n",
       "      <td>0.0</td>\n",
       "      <td>0.0</td>\n",
       "      <td>0.0</td>\n",
       "    </tr>\n",
       "    <tr>\n",
       "      <th>1400</th>\n",
       "      <th>2400</th>\n",
       "      <td>0.0</td>\n",
       "      <td>0.0</td>\n",
       "      <td>0.0</td>\n",
       "      <td>0.0</td>\n",
       "    </tr>\n",
       "    <tr>\n",
       "      <th>1450</th>\n",
       "      <th>2450</th>\n",
       "      <td>0.0</td>\n",
       "      <td>0.0</td>\n",
       "      <td>0.0</td>\n",
       "      <td>0.0</td>\n",
       "    </tr>\n",
       "    <tr>\n",
       "      <th>...</th>\n",
       "      <th>...</th>\n",
       "      <th>...</th>\n",
       "      <td>...</td>\n",
       "      <td>...</td>\n",
       "      <td>...</td>\n",
       "      <td>...</td>\n",
       "    </tr>\n",
       "    <tr>\n",
       "      <th rowspan=\"30\" valign=\"top\">chr19</th>\n",
       "      <th>59126500</th>\n",
       "      <th>59127500</th>\n",
       "      <td>0.0</td>\n",
       "      <td>0.0</td>\n",
       "      <td>0.0</td>\n",
       "      <td>0.0</td>\n",
       "    </tr>\n",
       "    <tr>\n",
       "      <th>59126550</th>\n",
       "      <th>59127550</th>\n",
       "      <td>0.0</td>\n",
       "      <td>0.0</td>\n",
       "      <td>0.0</td>\n",
       "      <td>0.0</td>\n",
       "    </tr>\n",
       "    <tr>\n",
       "      <th>59126600</th>\n",
       "      <th>59127600</th>\n",
       "      <td>0.0</td>\n",
       "      <td>0.0</td>\n",
       "      <td>0.0</td>\n",
       "      <td>0.0</td>\n",
       "    </tr>\n",
       "    <tr>\n",
       "      <th>59126650</th>\n",
       "      <th>59127650</th>\n",
       "      <td>0.0</td>\n",
       "      <td>0.0</td>\n",
       "      <td>0.0</td>\n",
       "      <td>0.0</td>\n",
       "    </tr>\n",
       "    <tr>\n",
       "      <th>59126700</th>\n",
       "      <th>59127700</th>\n",
       "      <td>0.0</td>\n",
       "      <td>0.0</td>\n",
       "      <td>0.0</td>\n",
       "      <td>0.0</td>\n",
       "    </tr>\n",
       "    <tr>\n",
       "      <th>59126750</th>\n",
       "      <th>59127750</th>\n",
       "      <td>0.0</td>\n",
       "      <td>0.0</td>\n",
       "      <td>0.0</td>\n",
       "      <td>0.0</td>\n",
       "    </tr>\n",
       "    <tr>\n",
       "      <th>59126800</th>\n",
       "      <th>59127800</th>\n",
       "      <td>0.0</td>\n",
       "      <td>0.0</td>\n",
       "      <td>0.0</td>\n",
       "      <td>0.0</td>\n",
       "    </tr>\n",
       "    <tr>\n",
       "      <th>59126850</th>\n",
       "      <th>59127850</th>\n",
       "      <td>0.0</td>\n",
       "      <td>0.0</td>\n",
       "      <td>0.0</td>\n",
       "      <td>0.0</td>\n",
       "    </tr>\n",
       "    <tr>\n",
       "      <th>59126900</th>\n",
       "      <th>59127900</th>\n",
       "      <td>0.0</td>\n",
       "      <td>0.0</td>\n",
       "      <td>0.0</td>\n",
       "      <td>0.0</td>\n",
       "    </tr>\n",
       "    <tr>\n",
       "      <th>59126950</th>\n",
       "      <th>59127950</th>\n",
       "      <td>0.0</td>\n",
       "      <td>0.0</td>\n",
       "      <td>0.0</td>\n",
       "      <td>0.0</td>\n",
       "    </tr>\n",
       "    <tr>\n",
       "      <th>59127000</th>\n",
       "      <th>59128000</th>\n",
       "      <td>0.0</td>\n",
       "      <td>0.0</td>\n",
       "      <td>0.0</td>\n",
       "      <td>0.0</td>\n",
       "    </tr>\n",
       "    <tr>\n",
       "      <th>59127050</th>\n",
       "      <th>59128050</th>\n",
       "      <td>0.0</td>\n",
       "      <td>0.0</td>\n",
       "      <td>0.0</td>\n",
       "      <td>0.0</td>\n",
       "    </tr>\n",
       "    <tr>\n",
       "      <th>59127100</th>\n",
       "      <th>59128100</th>\n",
       "      <td>0.0</td>\n",
       "      <td>0.0</td>\n",
       "      <td>0.0</td>\n",
       "      <td>0.0</td>\n",
       "    </tr>\n",
       "    <tr>\n",
       "      <th>59127150</th>\n",
       "      <th>59128150</th>\n",
       "      <td>0.0</td>\n",
       "      <td>0.0</td>\n",
       "      <td>0.0</td>\n",
       "      <td>0.0</td>\n",
       "    </tr>\n",
       "    <tr>\n",
       "      <th>59127200</th>\n",
       "      <th>59128200</th>\n",
       "      <td>0.0</td>\n",
       "      <td>0.0</td>\n",
       "      <td>0.0</td>\n",
       "      <td>0.0</td>\n",
       "    </tr>\n",
       "    <tr>\n",
       "      <th>59127250</th>\n",
       "      <th>59128250</th>\n",
       "      <td>0.0</td>\n",
       "      <td>0.0</td>\n",
       "      <td>0.0</td>\n",
       "      <td>0.0</td>\n",
       "    </tr>\n",
       "    <tr>\n",
       "      <th>59127300</th>\n",
       "      <th>59128300</th>\n",
       "      <td>0.0</td>\n",
       "      <td>0.0</td>\n",
       "      <td>0.0</td>\n",
       "      <td>0.0</td>\n",
       "    </tr>\n",
       "    <tr>\n",
       "      <th>59127350</th>\n",
       "      <th>59128350</th>\n",
       "      <td>0.0</td>\n",
       "      <td>0.0</td>\n",
       "      <td>0.0</td>\n",
       "      <td>0.0</td>\n",
       "    </tr>\n",
       "    <tr>\n",
       "      <th>59127400</th>\n",
       "      <th>59128400</th>\n",
       "      <td>0.0</td>\n",
       "      <td>0.0</td>\n",
       "      <td>0.0</td>\n",
       "      <td>0.0</td>\n",
       "    </tr>\n",
       "    <tr>\n",
       "      <th>59127450</th>\n",
       "      <th>59128450</th>\n",
       "      <td>0.0</td>\n",
       "      <td>0.0</td>\n",
       "      <td>0.0</td>\n",
       "      <td>0.0</td>\n",
       "    </tr>\n",
       "    <tr>\n",
       "      <th>59127500</th>\n",
       "      <th>59128500</th>\n",
       "      <td>0.0</td>\n",
       "      <td>0.0</td>\n",
       "      <td>0.0</td>\n",
       "      <td>0.0</td>\n",
       "    </tr>\n",
       "    <tr>\n",
       "      <th>59127550</th>\n",
       "      <th>59128550</th>\n",
       "      <td>0.0</td>\n",
       "      <td>0.0</td>\n",
       "      <td>0.0</td>\n",
       "      <td>0.0</td>\n",
       "    </tr>\n",
       "    <tr>\n",
       "      <th>59127600</th>\n",
       "      <th>59128600</th>\n",
       "      <td>0.0</td>\n",
       "      <td>0.0</td>\n",
       "      <td>0.0</td>\n",
       "      <td>0.0</td>\n",
       "    </tr>\n",
       "    <tr>\n",
       "      <th>59127650</th>\n",
       "      <th>59128650</th>\n",
       "      <td>0.0</td>\n",
       "      <td>0.0</td>\n",
       "      <td>0.0</td>\n",
       "      <td>0.0</td>\n",
       "    </tr>\n",
       "    <tr>\n",
       "      <th>59127700</th>\n",
       "      <th>59128700</th>\n",
       "      <td>0.0</td>\n",
       "      <td>0.0</td>\n",
       "      <td>0.0</td>\n",
       "      <td>0.0</td>\n",
       "    </tr>\n",
       "    <tr>\n",
       "      <th>59127750</th>\n",
       "      <th>59128750</th>\n",
       "      <td>0.0</td>\n",
       "      <td>0.0</td>\n",
       "      <td>0.0</td>\n",
       "      <td>0.0</td>\n",
       "    </tr>\n",
       "    <tr>\n",
       "      <th>59127800</th>\n",
       "      <th>59128800</th>\n",
       "      <td>0.0</td>\n",
       "      <td>0.0</td>\n",
       "      <td>0.0</td>\n",
       "      <td>0.0</td>\n",
       "    </tr>\n",
       "    <tr>\n",
       "      <th>59127850</th>\n",
       "      <th>59128850</th>\n",
       "      <td>0.0</td>\n",
       "      <td>0.0</td>\n",
       "      <td>0.0</td>\n",
       "      <td>0.0</td>\n",
       "    </tr>\n",
       "    <tr>\n",
       "      <th>59127900</th>\n",
       "      <th>59128900</th>\n",
       "      <td>0.0</td>\n",
       "      <td>0.0</td>\n",
       "      <td>0.0</td>\n",
       "      <td>0.0</td>\n",
       "    </tr>\n",
       "    <tr>\n",
       "      <th>59127950</th>\n",
       "      <th>59128950</th>\n",
       "      <td>0.0</td>\n",
       "      <td>0.0</td>\n",
       "      <td>0.0</td>\n",
       "      <td>0.0</td>\n",
       "    </tr>\n",
       "  </tbody>\n",
       "</table>\n",
       "<p>6046528 rows × 4 columns</p>\n",
       "</div>"
      ],
      "text/plain": [
       "                         SPI1  CTCF  ZNF143  SIX5\n",
       "CHR   START    END                               \n",
       "chr2  0        1000       0.0   0.0     0.0   0.0\n",
       "      50       1050       0.0   0.0     0.0   0.0\n",
       "      100      1100       0.0   0.0     0.0   0.0\n",
       "      150      1150       0.0   0.0     0.0   0.0\n",
       "      200      1200       0.0   0.0     0.0   0.0\n",
       "      250      1250       0.0   0.0     0.0   0.0\n",
       "      300      1300       0.0   0.0     0.0   0.0\n",
       "      350      1350       0.0   0.0     0.0   0.0\n",
       "      400      1400       0.0   0.0     0.0   0.0\n",
       "      450      1450       0.0   0.0     0.0   0.0\n",
       "      500      1500       0.0   0.0     0.0   0.0\n",
       "      550      1550       0.0   0.0     0.0   0.0\n",
       "      600      1600       0.0   0.0     0.0   0.0\n",
       "      650      1650       0.0   0.0     0.0   0.0\n",
       "      700      1700       0.0   0.0     0.0   0.0\n",
       "      750      1750       0.0   0.0     0.0   0.0\n",
       "      800      1800       0.0   0.0     0.0   0.0\n",
       "      850      1850       0.0   0.0     0.0   0.0\n",
       "      900      1900       0.0   0.0     0.0   0.0\n",
       "      950      1950       0.0   0.0     0.0   0.0\n",
       "      1000     2000       0.0   0.0     0.0   0.0\n",
       "      1050     2050       0.0   0.0     0.0   0.0\n",
       "      1100     2100       0.0   0.0     0.0   0.0\n",
       "      1150     2150       0.0   0.0     0.0   0.0\n",
       "      1200     2200       0.0   0.0     0.0   0.0\n",
       "      1250     2250       0.0   0.0     0.0   0.0\n",
       "      1300     2300       0.0   0.0     0.0   0.0\n",
       "      1350     2350       0.0   0.0     0.0   0.0\n",
       "      1400     2400       0.0   0.0     0.0   0.0\n",
       "      1450     2450       0.0   0.0     0.0   0.0\n",
       "...                       ...   ...     ...   ...\n",
       "chr19 59126500 59127500   0.0   0.0     0.0   0.0\n",
       "      59126550 59127550   0.0   0.0     0.0   0.0\n",
       "      59126600 59127600   0.0   0.0     0.0   0.0\n",
       "      59126650 59127650   0.0   0.0     0.0   0.0\n",
       "      59126700 59127700   0.0   0.0     0.0   0.0\n",
       "      59126750 59127750   0.0   0.0     0.0   0.0\n",
       "      59126800 59127800   0.0   0.0     0.0   0.0\n",
       "      59126850 59127850   0.0   0.0     0.0   0.0\n",
       "      59126900 59127900   0.0   0.0     0.0   0.0\n",
       "      59126950 59127950   0.0   0.0     0.0   0.0\n",
       "      59127000 59128000   0.0   0.0     0.0   0.0\n",
       "      59127050 59128050   0.0   0.0     0.0   0.0\n",
       "      59127100 59128100   0.0   0.0     0.0   0.0\n",
       "      59127150 59128150   0.0   0.0     0.0   0.0\n",
       "      59127200 59128200   0.0   0.0     0.0   0.0\n",
       "      59127250 59128250   0.0   0.0     0.0   0.0\n",
       "      59127300 59128300   0.0   0.0     0.0   0.0\n",
       "      59127350 59128350   0.0   0.0     0.0   0.0\n",
       "      59127400 59128400   0.0   0.0     0.0   0.0\n",
       "      59127450 59128450   0.0   0.0     0.0   0.0\n",
       "      59127500 59128500   0.0   0.0     0.0   0.0\n",
       "      59127550 59128550   0.0   0.0     0.0   0.0\n",
       "      59127600 59128600   0.0   0.0     0.0   0.0\n",
       "      59127650 59128650   0.0   0.0     0.0   0.0\n",
       "      59127700 59128700   0.0   0.0     0.0   0.0\n",
       "      59127750 59128750   0.0   0.0     0.0   0.0\n",
       "      59127800 59128800   0.0   0.0     0.0   0.0\n",
       "      59127850 59128850   0.0   0.0     0.0   0.0\n",
       "      59127900 59128900   0.0   0.0     0.0   0.0\n",
       "      59127950 59128950   0.0   0.0     0.0   0.0\n",
       "\n",
       "[6046528 rows x 4 columns]"
      ]
     },
     "execution_count": 9,
     "metadata": {},
     "output_type": "execute_result"
    }
   ],
   "source": [
    "#We load our test set labels into memory here, as we will use them to measure performance in cases 1 - 4 below.\n",
    "#Note that we only load the labels into memory, not the actual test dataset. \n",
    "\n",
    "#It is not necessary to load the training/validation dataset or labels, see below. \n",
    "test_set=pd.read_hdf(\"TF.test.hdf5\")\n",
    "test_set"
   ]
  },
  {
   "cell_type": "markdown",
   "metadata": {},
   "source": [
    "## Challenges of in vivo data : batch generators and class upsampling <a name='3'>\n",
    "<a href=#outline>Home</a>\n",
    "\n",
    "In tutorials 1 - 3, we used the [keras fit](https://keras.io/models/sequential/#fit) function to train a CNN. However, when working with real data we face two new challenges: \n",
    "\n",
    "1) The dataset is much bigger. In our training set, there are 50,881,560 1kb bins, in our validation set, there are 4,984,994 bins, and in our test set there are 6,046,529 bins. Loading this dataset into memory to pass as a numpy array to the CNN code will require more memory than is available on many machines. Consequently, we use the [keras fit_generator](https://keras.io/models/sequential/#fit_generator) function to limit the memory footprint. This function reads in one batch of training and one batch of validation data at a time from a python generator. in *dragonn.generators*, we provide several python generator functions to match the scenarios below. "
   ]
  },
  {
   "cell_type": "code",
   "execution_count": 10,
   "metadata": {},
   "outputs": [],
   "source": [
    "from dragonn.generators import * "
   ]
  },
  {
   "cell_type": "markdown",
   "metadata": {},
   "source": [
    "2) The dataset is highly imbalanced. Of the 50,881,560 1kb bins in the training set, only \n",
    "\n",
    "* 136,279 are labeled positive for the SPI1 task (372 negatives: 1 positive )\n",
    "\n",
    "* 131,245 are labeled positive for the CTCF task (387 negatives: 1 positive ) \n",
    "\n",
    "* 93,981 are labeled positive for the ZNF143 task (540 negatives: 1 positive ) \n",
    "\n",
    "* 15,641 are labeled positive for the SIX5 task (3252 negatives: 1 positive ) \n",
    "\n",
    "The class imbalance is far too high for the model to learn unassisted. Hence, we upsample the positive bins to include in each batch with the \"upsample\" argument to DataGenerator. The upsample argument accepts a fraction between 0 and 1 and ensures that this fraction of the batch consists of positive bins. \n"
   ]
  },
  {
   "cell_type": "code",
   "execution_count": 11,
   "metadata": {},
   "outputs": [],
   "source": [
    "#To prepare for model training, we import the necessary functions and submodules from keras\n",
    "from keras.models import Sequential\n",
    "from keras.layers.core import Dropout, Reshape, Dense, Activation, Flatten\n",
    "from keras.layers.convolutional import Conv2D, MaxPooling2D\n",
    "from keras.optimizers import Adadelta, SGD, RMSprop;\n",
    "import keras.losses;\n",
    "from keras.constraints import maxnorm;\n",
    "from keras.layers.normalization import BatchNormalization\n",
    "from keras.regularizers import l1, l2\n",
    "from keras.callbacks import EarlyStopping, History\n",
    "from keras import backend as K \n",
    "K.set_image_data_format('channels_last')"
   ]
  },
  {
   "cell_type": "code",
   "execution_count": 12,
   "metadata": {},
   "outputs": [],
   "source": [
    "from concise.metrics import tpr, tnr, fpr, fnr, precision, f1\n",
    "def initialize_model(ntasks=1):\n",
    "    #Define the model architecture in keras (regularized, 3-layer convolution model followed by 1 dense layer)\n",
    "    model=Sequential() \n",
    "    \n",
    "    model.add(Conv2D(filters=15,kernel_size=(1,10),input_shape=(1,1000,4)))\n",
    "    model.add(Activation('relu'))\n",
    "    model.add(Dropout(0.2))\n",
    "    model.add(MaxPooling2D(pool_size=(1,35)))\n",
    "\n",
    "    model.add(Conv2D(filters=15,kernel_size=(1,10)))\n",
    "    model.add(Activation('relu'))\n",
    "    model.add(Dropout(0.2))\n",
    "\n",
    "    model.add(Conv2D(filters=15,kernel_size=(1,10)))\n",
    "    model.add(Activation('relu'))\n",
    "    model.add(Dropout(0.2))\n",
    "\n",
    "    model.add(Flatten())\n",
    "    model.add(Dense(ntasks))\n",
    "    model.add(Activation(\"sigmoid\"))\n",
    "\n",
    "    ##compile the model, specifying the Adam optimizer, and binary cross-entropy loss. \n",
    "    model.compile(optimizer='adam',loss='binary_crossentropy',\n",
    "                  metrics=[tpr,\n",
    "                           tnr,\n",
    "                           fpr,\n",
    "                           fnr,\n",
    "                           precision,\n",
    "                           f1])\n",
    "    return model"
   ]
  },
  {
   "cell_type": "markdown",
   "metadata": {},
   "source": [
    "### Download pre-generated models and test set predictions (optional) <a name='3.5'>\n",
    "<a href=#outline>Home</a>\n",
    "\n",
    "#### **Note: on a GPU, each of the models below should take 10 - 15 minutes to train, with an additional 7-10 minutesu for prediction on the corresponding test sets. Although training the models is a valuable exercise, for the sake of time, we also provide hdf5 files with pre-trained models and test set predictions. These were generated by running the tutorial and saving the outputs at the end (see <a href=#10>Save tutorial outputs</a>). Uncomment the cell below if you wish to load the pre-trained models and test set predictions to use for performance comparison and DeepLIFT analyis** "
   ]
  },
  {
   "cell_type": "code",
   "execution_count": 159,
   "metadata": {},
   "outputs": [],
   "source": [
    "#Download the models \n",
    "#!wget http://mitra.stanford.edu/kundaje/projects/dragonn/case1_spi1_model.hdf5\n",
    "#!wget http://mitra.stanford.edu/kundaje/projects/dragonn/case1_ctcf_model.hdf5\n",
    "#!wget http://mitra.stanford.edu/kundaje/projects/dragonn/case2_spi1_model.hdf5\n",
    "#!wget http://mitra.stanford.edu/kundaje/projects/dragonn/case2_ctcf_model.hdf5\n",
    "#!wget http://mitra.stanford.edu/kundaje/projects/dragonn/case3_model.hdf5\n",
    "#!wget http://mitra.stanford.edu/kundaje/projects/dragonn/case4_spi1_model.hdf5\n",
    "    \n"
   ]
  },
  {
   "cell_type": "code",
   "execution_count": 160,
   "metadata": {},
   "outputs": [],
   "source": [
    "#Load the models from hdf5 \n",
    "#from keras.models import load_model \n",
    "#case1_spi1_model=load_model(\"case1_spi1_model.hdf5\")\n",
    "#case1_ctcf_model=load_model(\"case1_ctcf_model.hdf5\")\n",
    "#case2_spi1_model=load_model(\"case2_spi1_model.hdf5\")\n",
    "#case2_ctcf_model=load_model(\"case2_ctcf_model.hdf5\")\n",
    "#case3_model=load_model(\"case3_model.hdf5\")\n",
    "#case4_spi1_model=load_model(\"case4_spi1_model.hdf5\")\n"
   ]
  },
  {
   "cell_type": "code",
   "execution_count": null,
   "metadata": {},
   "outputs": [],
   "source": [
    "\n",
    "#Download test set predictions \n",
    "#!wget http://mitra.stanford.edu/kundaje/projects/dragonn/test_set_predictions.hdf5\n"
   ]
  },
  {
   "cell_type": "code",
   "execution_count": 161,
   "metadata": {},
   "outputs": [],
   "source": [
    "#Extract predictions from hdf5 for each model \n",
    "#import h5py\n",
    "#test_set_predictions=h5py.File(\"test_set_predictions.hdf5\")\n"
   ]
  },
  {
   "cell_type": "code",
   "execution_count": 162,
   "metadata": {},
   "outputs": [],
   "source": [
    "#case1_spi1_test_predictions=test_set_predictions[\"case1_spi1_test_predictions\"].value\n",
    "#case1_ctcf_test_predictions=test_set_predictions[\"case1_spi1_test_predictions\"].value\n",
    "#case2_spi1_test_predictions=test_set_predictions[\"case2_spi1_test_predictions\"].value\n",
    "#case2_ctcf_test_predictions=test_set_predictions[\"case2_ctcf_test_predictions\"].value\n",
    "#case3_test_predictions=test_set_predictions[\"case3_test_predictions\"].value\n",
    "#case4_spi1_test_predictions=test_set_predictions[\"case4_spi1_test_predictions\"].value"
   ]
  },
  {
   "cell_type": "code",
   "execution_count": 163,
   "metadata": {},
   "outputs": [
    {
     "data": {
      "text/plain": [
       "(6046000, 1)"
      ]
     },
     "execution_count": 163,
     "metadata": {},
     "output_type": "execute_result"
    }
   ],
   "source": [
    "#case1_spi1_test_predictions.shape"
   ]
  },
  {
   "cell_type": "markdown",
   "metadata": {},
   "source": [
    "## Case 1: Negatives consist of shuffled references, single-tasked models<a name='4'>\n",
    "<a href=#outline>Home</a>"
   ]
  },
  {
   "cell_type": "markdown",
   "metadata": {},
   "source": [
    "We begin by training a model on the SPI1 and CTCF dataset with the following specifications: \n",
    "\n",
    "* We use dinucleotide-shuffled positive bins as the negative set. \n",
    "\n",
    "* Each batch contains one-hot encoded 1kb regions from the genome, as well as the one-hot-encoded reverse complement sequences of those regions. \n",
    "\n",
    "* We ensure that at least 10% of the samples in each batch are positives \n",
    "\n"
   ]
  },
  {
   "cell_type": "code",
   "execution_count": null,
   "metadata": {},
   "outputs": [],
   "source": [
    "We create generators for the training and validation data to meet these specifications: "
   ]
  },
  {
   "cell_type": "code",
   "execution_count": 32,
   "metadata": {},
   "outputs": [],
   "source": [
    "#create the generators\n",
    "from dragonn.generators import * \n",
    "case1_spi1_train_gen=DataGenerator(\"SPI1.positives.TF.train.hdf5\",\"hg19.genome.fa.gz\",shuffled_ref_negatives=True,upsample=False)\n",
    "case1_spi1_valid_gen=DataGenerator(\"SPI1.positives.TF.valid.hdf5\",\"hg19.genome.fa.gz\",shuffled_ref_negatives=True,upsample=False)\n",
    "case1_ctcf_train_gen=DataGenerator(\"CTCF.positives.TF.train.hdf5\",\"hg19.genome.fa.gz\",shuffled_ref_negatives=True,upsample=False)\n",
    "case1_ctcf_valid_gen=DataGenerator(\"CTCF.positives.TF.valid.hdf5\",\"hg19.genome.fa.gz\",shuffled_ref_negatives=True,upsample=False)"
   ]
  },
  {
   "cell_type": "markdown",
   "metadata": {},
   "source": [
    "We now follow the standard protocol we used in tutorials 1 - 3 to train a keras model, with the exception that we use the fit_generator function in keras, rather than the fit function."
   ]
  },
  {
   "cell_type": "code",
   "execution_count": 33,
   "metadata": {},
   "outputs": [
    {
     "name": "stdout",
     "output_type": "stream",
     "text": [
      "Epoch 1/150\n",
      "1000/1000 [==============================] - 46s 46ms/step - loss: 0.2828 - sensitivity: 0.8520 - specificity: 0.8929 - fpr: 0.1071 - fnr: 0.1480 - precision: 0.8936 - f1: 0.8633 - val_loss: 0.1399 - val_sensitivity: 0.9315 - val_specificity: 0.9755 - val_fpr: 0.0245 - val_fnr: 0.0685 - val_precision: 0.9750 - val_f1: 0.9514\n",
      "Epoch 2/150\n",
      "1000/1000 [==============================] - 36s 36ms/step - loss: 0.1381 - sensitivity: 0.9368 - specificity: 0.9571 - fpr: 0.0429 - fnr: 0.0632 - precision: 0.9593 - f1: 0.9450 - val_loss: 0.0865 - val_sensitivity: 0.9545 - val_specificity: 0.9775 - val_fpr: 0.0225 - val_fnr: 0.0455 - val_precision: 0.9774 - val_f1: 0.9654\n",
      "Epoch 3/150\n",
      "1000/1000 [==============================] - 38s 38ms/step - loss: 0.1133 - sensitivity: 0.9500 - specificity: 0.9635 - fpr: 0.0365 - fnr: 0.0500 - precision: 0.9657 - f1: 0.9554 - val_loss: 0.1822 - val_sensitivity: 0.8502 - val_specificity: 0.9994 - val_fpr: 6.0937e-04 - val_fnr: 0.1498 - val_precision: 0.9993 - val_f1: 0.9178\n",
      "Epoch 4/150\n",
      "1000/1000 [==============================] - 37s 37ms/step - loss: 0.0975 - sensitivity: 0.9572 - specificity: 0.9682 - fpr: 0.0318 - fnr: 0.0428 - precision: 0.9702 - f1: 0.9616 - val_loss: 0.1037 - val_sensitivity: 0.9205 - val_specificity: 0.9977 - val_fpr: 0.0023 - val_fnr: 0.0795 - val_precision: 0.9976 - val_f1: 0.9569\n",
      "Epoch 5/150\n",
      "1000/1000 [==============================] - 47s 47ms/step - loss: 0.0758 - sensitivity: 0.9676 - specificity: 0.9760 - fpr: 0.0240 - fnr: 0.0324 - precision: 0.9766 - f1: 0.9714 - val_loss: 0.0867 - val_sensitivity: 0.9325 - val_specificity: 0.9973 - val_fpr: 0.0027 - val_fnr: 0.0675 - val_precision: 0.9972 - val_f1: 0.9633\n"
     ]
    }
   ],
   "source": [
    "#Train the SPI1 model \n",
    "case1_spi1_model=initialize_model()\n",
    "\n",
    "## use the keras fit_generator function to train the model with early stopping after 3 epochs \n",
    "history_case1_spi1=case1_spi1_model.fit_generator(case1_spi1_train_gen,\n",
    "                                                  validation_data=case1_spi1_valid_gen,\n",
    "                                                  steps_per_epoch=1000,\n",
    "                                                  validation_steps=1000,\n",
    "                                                  epochs=150,\n",
    "                                                  verbose=1,\n",
    "                                                  use_multiprocessing=True,\n",
    "                                                  workers=40,\n",
    "                                                  max_queue_size=100,\n",
    "                                                  callbacks=[EarlyStopping(patience=3,restore_best_weights=True),History()])"
   ]
  },
  {
   "cell_type": "code",
   "execution_count": 34,
   "metadata": {},
   "outputs": [
    {
     "name": "stdout",
     "output_type": "stream",
     "text": [
      "Epoch 1/150\n",
      "1000/1000 [==============================] - 55s 55ms/step - loss: 0.3254 - sensitivity: 0.8186 - specificity: 0.8547 - fpr: 0.1453 - fnr: 0.1814 - precision: 0.8554 - f1: 0.8260 - val_loss: 0.2350 - val_sensitivity: 0.7953 - val_specificity: 0.9975 - val_fpr: 0.0025 - val_fnr: 0.2047 - val_precision: 0.9970 - val_f1: 0.8804\n",
      "Epoch 2/150\n",
      "1000/1000 [==============================] - 37s 37ms/step - loss: 0.1226 - sensitivity: 0.9476 - specificity: 0.9586 - fpr: 0.0414 - fnr: 0.0524 - precision: 0.9607 - f1: 0.9518 - val_loss: 0.0696 - val_sensitivity: 0.9646 - val_specificity: 0.9891 - val_fpr: 0.0109 - val_fnr: 0.0354 - val_precision: 0.9890 - val_f1: 0.9764\n",
      "Epoch 3/150\n",
      "1000/1000 [==============================] - 37s 37ms/step - loss: 0.0874 - sensitivity: 0.9633 - specificity: 0.9715 - fpr: 0.0285 - fnr: 0.0367 - precision: 0.9729 - f1: 0.9667 - val_loss: 0.0502 - val_sensitivity: 0.9717 - val_specificity: 0.9924 - val_fpr: 0.0076 - val_fnr: 0.0283 - val_precision: 0.9924 - val_f1: 0.9817\n",
      "Epoch 4/150\n",
      "1000/1000 [==============================] - 37s 37ms/step - loss: 0.0738 - sensitivity: 0.9701 - specificity: 0.9754 - fpr: 0.0246 - fnr: 0.0299 - precision: 0.9768 - f1: 0.9724 - val_loss: 0.0777 - val_sensitivity: 0.9430 - val_specificity: 0.9979 - val_fpr: 0.0021 - val_fnr: 0.0570 - val_precision: 0.9978 - val_f1: 0.9692\n",
      "Epoch 5/150\n",
      "1000/1000 [==============================] - 49s 49ms/step - loss: 0.0490 - sensitivity: 0.9805 - specificity: 0.9837 - fpr: 0.0163 - fnr: 0.0195 - precision: 0.9840 - f1: 0.9820 - val_loss: 0.0347 - val_sensitivity: 0.9800 - val_specificity: 0.9962 - val_fpr: 0.0037 - val_fnr: 0.0200 - val_precision: 0.9962 - val_f1: 0.9879\n",
      "Epoch 6/150\n",
      "1000/1000 [==============================] - 38s 38ms/step - loss: 0.0447 - sensitivity: 0.9822 - specificity: 0.9856 - fpr: 0.0144 - fnr: 0.0178 - precision: 0.9860 - f1: 0.9839 - val_loss: 0.0302 - val_sensitivity: 0.9842 - val_specificity: 0.9960 - val_fpr: 0.0040 - val_fnr: 0.0158 - val_precision: 0.9960 - val_f1: 0.9900\n",
      "Epoch 7/150\n",
      "1000/1000 [==============================] - 38s 38ms/step - loss: 0.0409 - sensitivity: 0.9839 - specificity: 0.9868 - fpr: 0.0132 - fnr: 0.0161 - precision: 0.9872 - f1: 0.9853 - val_loss: 0.0363 - val_sensitivity: 0.9740 - val_specificity: 0.9986 - val_fpr: 0.0014 - val_fnr: 0.0260 - val_precision: 0.9986 - val_f1: 0.9860\n",
      "Epoch 8/150\n",
      "1000/1000 [==============================] - 39s 39ms/step - loss: 0.0389 - sensitivity: 0.9851 - specificity: 0.9878 - fpr: 0.0122 - fnr: 0.0149 - precision: 0.9881 - f1: 0.9864 - val_loss: 0.0298 - val_sensitivity: 0.9800 - val_specificity: 0.9982 - val_fpr: 0.0018 - val_fnr: 0.0200 - val_precision: 0.9982 - val_f1: 0.9889\n",
      "Epoch 9/150\n",
      "1000/1000 [==============================] - 50s 50ms/step - loss: 0.0354 - sensitivity: 0.9860 - specificity: 0.9888 - fpr: 0.0112 - fnr: 0.0140 - precision: 0.9891 - f1: 0.9874 - val_loss: 0.0410 - val_sensitivity: 0.9702 - val_specificity: 0.9992 - val_fpr: 8.1250e-04 - val_fnr: 0.0297 - val_precision: 0.9992 - val_f1: 0.9843\n",
      "Epoch 10/150\n",
      "1000/1000 [==============================] - 38s 38ms/step - loss: 0.0355 - sensitivity: 0.9859 - specificity: 0.9882 - fpr: 0.0118 - fnr: 0.0141 - precision: 0.9885 - f1: 0.9870 - val_loss: 0.0301 - val_sensitivity: 0.9801 - val_specificity: 0.9982 - val_fpr: 0.0018 - val_fnr: 0.0199 - val_precision: 0.9982 - val_f1: 0.9889\n",
      "Epoch 11/150\n",
      "1000/1000 [==============================] - 38s 38ms/step - loss: 0.0331 - sensitivity: 0.9871 - specificity: 0.9898 - fpr: 0.0102 - fnr: 0.0129 - precision: 0.9900 - f1: 0.9884 - val_loss: 0.0221 - val_sensitivity: 0.9910 - val_specificity: 0.9953 - val_fpr: 0.0047 - val_fnr: 0.0090 - val_precision: 0.9954 - val_f1: 0.9931\n",
      "Epoch 12/150\n",
      "1000/1000 [==============================] - 37s 37ms/step - loss: 0.0345 - sensitivity: 0.9865 - specificity: 0.9892 - fpr: 0.0108 - fnr: 0.0135 - precision: 0.9895 - f1: 0.9878 - val_loss: 0.0219 - val_sensitivity: 0.9902 - val_specificity: 0.9966 - val_fpr: 0.0034 - val_fnr: 0.0098 - val_precision: 0.9966 - val_f1: 0.9933\n",
      "Epoch 13/150\n",
      "1000/1000 [==============================] - 48s 48ms/step - loss: 0.0309 - sensitivity: 0.9881 - specificity: 0.9903 - fpr: 0.0097 - fnr: 0.0119 - precision: 0.9905 - f1: 0.9891 - val_loss: 0.0212 - val_sensitivity: 0.9931 - val_specificity: 0.9932 - val_fpr: 0.0068 - val_fnr: 0.0069 - val_precision: 0.9933 - val_f1: 0.9931\n",
      "Epoch 14/150\n",
      "1000/1000 [==============================] - 36s 36ms/step - loss: 0.0316 - sensitivity: 0.9878 - specificity: 0.9904 - fpr: 0.0096 - fnr: 0.0122 - precision: 0.9906 - f1: 0.9891 - val_loss: 0.0293 - val_sensitivity: 0.9812 - val_specificity: 0.9987 - val_fpr: 0.0013 - val_fnr: 0.0188 - val_precision: 0.9987 - val_f1: 0.9898\n",
      "Epoch 15/150\n",
      "1000/1000 [==============================] - 39s 39ms/step - loss: 0.0306 - sensitivity: 0.9880 - specificity: 0.9905 - fpr: 0.0095 - fnr: 0.0120 - precision: 0.9907 - f1: 0.9892 - val_loss: 0.0388 - val_sensitivity: 0.9715 - val_specificity: 0.9993 - val_fpr: 6.8750e-04 - val_fnr: 0.0285 - val_precision: 0.9993 - val_f1: 0.9850\n",
      "Epoch 16/150\n",
      "1000/1000 [==============================] - 39s 39ms/step - loss: 0.0312 - sensitivity: 0.9874 - specificity: 0.9907 - fpr: 0.0093 - fnr: 0.0126 - precision: 0.9909 - f1: 0.9890 - val_loss: 0.0358 - val_sensitivity: 0.9742 - val_specificity: 0.9992 - val_fpr: 7.8125e-04 - val_fnr: 0.0258 - val_precision: 0.9992 - val_f1: 0.9864\n"
     ]
    }
   ],
   "source": [
    "#Train the CTCF model \n",
    "case1_ctcf_model=initialize_model()\n",
    "\n",
    "## use the keras fit_generator function to train the model with early stopping after 3 epochs \n",
    "history_case1_ctcf=case1_ctcf_model.fit_generator(case1_ctcf_train_gen,\n",
    "                                                  validation_data=case1_ctcf_valid_gen,\n",
    "                                                  steps_per_epoch=1000,\n",
    "                                                  validation_steps=1000,\n",
    "                                                  epochs=150,\n",
    "                                                  verbose=1,\n",
    "                                                  use_multiprocessing=True,\n",
    "                                                  workers=40,\n",
    "                                                  max_queue_size=100,\n",
    "                                                  callbacks=[EarlyStopping(patience=3,restore_best_weights=True),History()])"
   ]
  },
  {
   "cell_type": "code",
   "execution_count": 35,
   "metadata": {},
   "outputs": [
    {
     "data": {
      "image/png": "[encoded data removed]",
      "text/plain": [
       "<Figure size 720x288 with 1 Axes>"
      ]
     },
     "metadata": {},
     "output_type": "display_data"
    }
   ],
   "source": [
    "## Plot the learning curves for SPI1  \n",
    "from dragonn.tutorial_utils import plot_learning_curve\n",
    "plot_learning_curve(history_case1_spi1)"
   ]
  },
  {
   "cell_type": "code",
   "execution_count": 36,
   "metadata": {},
   "outputs": [
    {
     "data": {
      "image/png": "[encoded data removed]",
      "text/plain": [
       "<Figure size 720x288 with 1 Axes>"
      ]
     },
     "metadata": {},
     "output_type": "display_data"
    }
   ],
   "source": [
    "## Plot the learning curve for CTCF \n",
    "plot_learning_curve(history_case1_ctcf)"
   ]
  },
  {
   "cell_type": "markdown",
   "metadata": {},
   "source": [
    "We now measure how well the models performed by calculating performance metrics on the test splits across the whole genome. "
   ]
  },
  {
   "cell_type": "code",
   "execution_count": 37,
   "metadata": {},
   "outputs": [
    {
     "name": "stdout",
     "output_type": "stream",
     "text": [
      "6046/6046 [==============================] - 345s 57ms/step\n"
     ]
    }
   ],
   "source": [
    "case1_spi1_test_gen=DataGenerator(\"TF.test.hdf5\",\n",
    "                                   \"hg19.genome.fa.gz\",\n",
    "                                     upsample=False,\n",
    "                                     add_revcomp=False,\n",
    "                                     batch_size=1000,\n",
    "                                     tasks=['SPI1'])\n",
    "case1_spi1_test_predictions=case1_spi1_model.predict_generator(case1_spi1_test_gen,\n",
    "                                                               max_queue_size=5000, \n",
    "                                                               workers=40, \n",
    "                                                               use_multiprocessing=True, \n",
    "                                                               verbose=1)\n"
   ]
  },
  {
   "cell_type": "code",
   "execution_count": 38,
   "metadata": {},
   "outputs": [
    {
     "name": "stdout",
     "output_type": "stream",
     "text": [
      "6046/6046 [==============================] - 338s 56ms/step\n"
     ]
    }
   ],
   "source": [
    "case1_ctcf_test_gen=DataGenerator(\"TF.test.hdf5\",\n",
    "                                   \"hg19.genome.fa.gz\",\n",
    "                                     upsample=False,\n",
    "                                     add_revcomp=False,\n",
    "                                     batch_size=1000,\n",
    "                                     tasks=['CTCF'])\n",
    "case1_ctcf_test_predictions=case1_ctcf_model.predict_generator(case1_ctcf_test_gen,max_queue_size=5000, workers=40, use_multiprocessing=True, verbose=1)\n"
   ]
  },
  {
   "cell_type": "code",
   "execution_count": 39,
   "metadata": {},
   "outputs": [],
   "source": [
    "#format true & predicted test labels for performance assessment \n",
    "\n",
    "#if test_set.shape is not a multiple of batch_size, \n",
    "#there may be some extra values in test_set that need to get truncated.\n",
    "spi1_test_truth=np.expand_dims(test_set['SPI1'][0:case1_spi1_test_predictions.shape[0]],1).astype(bool)"
   ]
  },
  {
   "cell_type": "code",
   "execution_count": 40,
   "metadata": {},
   "outputs": [
    {
     "name": "stdout",
     "output_type": "stream",
     "text": [
      "Loss: inf\tBalanced Accuracy: 50.48%\t auROC: 0.542\t auPRC: 0.004\n",
      "\tRecall at 5%|10%|20% FDR: 0.0%|0.0%|0.0%\t Num Positives: 20189\t Num Negatives: 6025811\n"
     ]
    }
   ],
   "source": [
    "## Generate a ClassificationResult object to print performance metrics on held-out test set \n",
    "from dragonn.metrics import ClassificationResult\n",
    "print(ClassificationResult(spi1_test_truth,case1_spi1_test_predictions))"
   ]
  },
  {
   "cell_type": "code",
   "execution_count": 41,
   "metadata": {},
   "outputs": [],
   "source": [
    "ctcf_test_truth=np.expand_dims(test_set['CTCF'][0:case1_ctcf_test_predictions.shape[0]],1).astype(bool)"
   ]
  },
  {
   "cell_type": "code",
   "execution_count": 42,
   "metadata": {},
   "outputs": [
    {
     "name": "stdout",
     "output_type": "stream",
     "text": [
      "Loss: nan\tBalanced Accuracy: 49.96%\t auROC: 0.521\t auPRC: 0.056\n",
      "\tRecall at 5%|10%|20% FDR: 0.0%|0.0%|0.0%\t Num Positives: 19611\t Num Negatives: 6026389\n"
     ]
    }
   ],
   "source": [
    "## Generate a ClassificationResult object to print performance metrics on held-out test set \n",
    "print(ClassificationResult(ctcf_test_truth,case1_ctcf_test_predictions))"
   ]
  },
  {
   "cell_type": "markdown",
   "metadata": {},
   "source": [
    "## Case 2: Whole-genome negatives, single-tasked models <a name='5'>\n",
    "<a href=#outline>Home</a>"
   ]
  },
  {
   "cell_type": "code",
   "execution_count": null,
   "metadata": {},
   "outputs": [],
   "source": [
    "#create the generators\n",
    "from dragonn.generators import * \n",
    "case2_spi1_train_gen=DataGenerator(\"TF.train.hdf5\",\"hg19.genome.fa.gz\",tasks=[\"SPI1\"],upsample_ratio=0.3)\n",
    "case2_spi1_valid_gen=DataGenerator(\"TF.valid.hdf5\",\"hg19.genome.fa.gz\",tasks=[\"SPI1\"],upsample_ratio=0.3)\n",
    "case2_ctcf_train_gen=DataGenerator(\"TF.train.hdf5\",\"hg19.genome.fa.gz\",tasks=[\"CTCF\"],upsample_ratio=0.3)\n",
    "case2_ctcf_valid_gen=DataGenerator(\"TF.valid.hdf5\",\"hg19.genome.fa.gz\",tasks=[\"CTCF\"],upsample_ratio=0.3)\n"
   ]
  },
  {
   "cell_type": "code",
   "execution_count": 25,
   "metadata": {},
   "outputs": [
    {
     "name": "stdout",
     "output_type": "stream",
     "text": [
      "Epoch 1/150\n",
      "10000/10000 [==============================] - 199s 20ms/step - loss: 0.3038 - sensitivity: 0.7392 - specificity: 0.9229 - fpr: 0.0771 - fnr: 0.2608 - precision: nan - f1: nan - val_loss: 0.2127 - val_sensitivity: 0.8892 - val_specificity: 0.9260 - val_fpr: 0.0740 - val_fnr: 0.1108 - val_precision: 0.8399 - val_f1: 0.8618\n",
      "Epoch 2/150\n",
      "10000/10000 [==============================] - 184s 18ms/step - loss: 0.2293 - sensitivity: 0.8393 - specificity: 0.9355 - fpr: 0.0645 - fnr: 0.1607 - precision: 0.8515 - f1: 0.8423 - val_loss: 0.2028 - val_sensitivity: 0.8663 - val_specificity: 0.9400 - val_fpr: 0.0600 - val_fnr: 0.1337 - val_precision: 0.8631 - val_f1: 0.8625\n",
      "Epoch 3/150\n",
      "10000/10000 [==============================] - 182s 18ms/step - loss: 0.2241 - sensitivity: 0.8432 - specificity: 0.9375 - fpr: 0.0625 - fnr: 0.1568 - precision: 0.8558 - f1: 0.8466 - val_loss: 0.2009 - val_sensitivity: 0.8758 - val_specificity: 0.9398 - val_fpr: 0.0602 - val_fnr: 0.1242 - val_precision: 0.8640 - val_f1: 0.8678\n",
      "Epoch 4/150\n",
      "10000/10000 [==============================] - 181s 18ms/step - loss: 0.2219 - sensitivity: 0.8451 - specificity: 0.9379 - fpr: 0.0621 - fnr: 0.1549 - precision: 0.8567 - f1: 0.8480 - val_loss: 0.2055 - val_sensitivity: 0.8370 - val_specificity: 0.9536 - val_fpr: 0.0464 - val_fnr: 0.1630 - val_precision: 0.8875 - val_f1: 0.8591\n",
      "Epoch 5/150\n",
      "10000/10000 [==============================] - 183s 18ms/step - loss: 0.2213 - sensitivity: 0.8452 - specificity: 0.9378 - fpr: 0.0622 - fnr: 0.1548 - precision: 0.8566 - f1: 0.8481 - val_loss: 0.1993 - val_sensitivity: 0.8691 - val_specificity: 0.9413 - val_fpr: 0.0587 - val_fnr: 0.1309 - val_precision: 0.8663 - val_f1: 0.8655\n",
      "Epoch 6/150\n",
      "10000/10000 [==============================] - 182s 18ms/step - loss: 0.2209 - sensitivity: 0.8457 - specificity: 0.9384 - fpr: 0.0616 - fnr: 0.1543 - precision: 0.8575 - f1: 0.8489 - val_loss: 0.2019 - val_sensitivity: 0.8650 - val_specificity: 0.9434 - val_fpr: 0.0566 - val_fnr: 0.1350 - val_precision: 0.8698 - val_f1: 0.8652\n",
      "Epoch 7/150\n",
      "10000/10000 [==============================] - 181s 18ms/step - loss: 0.2180 - sensitivity: 0.8480 - specificity: 0.9385 - fpr: 0.0615 - fnr: 0.1520 - precision: 0.8578 - f1: 0.8503 - val_loss: 0.1984 - val_sensitivity: 0.8461 - val_specificity: 0.9519 - val_fpr: 0.0481 - val_fnr: 0.1539 - val_precision: 0.8849 - val_f1: 0.8628\n",
      "Epoch 8/150\n",
      "10000/10000 [==============================] - 192s 19ms/step - loss: 0.2153 - sensitivity: 0.8521 - specificity: 0.9387 - fpr: 0.0613 - fnr: 0.1479 - precision: 0.8590 - f1: 0.8530 - val_loss: 0.2000 - val_sensitivity: 0.8490 - val_specificity: 0.9510 - val_fpr: 0.0490 - val_fnr: 0.1510 - val_precision: 0.8835 - val_f1: 0.8636\n",
      "Epoch 9/150\n",
      "10000/10000 [==============================] - 182s 18ms/step - loss: 0.2140 - sensitivity: 0.8524 - specificity: 0.9395 - fpr: 0.0605 - fnr: 0.1476 - precision: 0.8605 - f1: 0.8539 - val_loss: 0.1967 - val_sensitivity: 0.8435 - val_specificity: 0.9528 - val_fpr: 0.0472 - val_fnr: 0.1565 - val_precision: 0.8866 - val_f1: 0.8621\n",
      "Epoch 10/150\n",
      "10000/10000 [==============================] - 180s 18ms/step - loss: 0.2139 - sensitivity: 0.8523 - specificity: 0.9394 - fpr: 0.0606 - fnr: 0.1477 - precision: 0.8604 - f1: 0.8538 - val_loss: 0.2021 - val_sensitivity: 0.8502 - val_specificity: 0.9508 - val_fpr: 0.0492 - val_fnr: 0.1498 - val_precision: 0.8832 - val_f1: 0.8641\n",
      "Epoch 11/150\n",
      "10000/10000 [==============================] - 181s 18ms/step - loss: 0.2136 - sensitivity: 0.8550 - specificity: 0.9387 - fpr: 0.0613 - fnr: 0.1450 - precision: 0.8593 - f1: 0.8547 - val_loss: 0.1973 - val_sensitivity: 0.8618 - val_specificity: 0.9475 - val_fpr: 0.0525 - val_fnr: 0.1382 - val_precision: 0.8776 - val_f1: 0.8674\n",
      "Epoch 12/150\n",
      "10000/10000 [==============================] - 181s 18ms/step - loss: 0.2127 - sensitivity: 0.8551 - specificity: 0.9387 - fpr: 0.0613 - fnr: 0.1449 - precision: 0.8595 - f1: 0.8548 - val_loss: 0.2015 - val_sensitivity: 0.8461 - val_specificity: 0.9528 - val_fpr: 0.0472 - val_fnr: 0.1539 - val_precision: 0.8871 - val_f1: 0.8637\n"
     ]
    }
   ],
   "source": [
    "#Train the SPI1 model \n",
    "case2_spi1_model=initialize_model()\n",
    "\n",
    "## use the keras fit_generator function to train the model with early stopping after 3 epochs \n",
    "history_case2_spi1=case2_spi1_model.fit_generator(case2_spi1_train_gen,\n",
    "                                                  validation_data=case2_spi1_valid_gen,\n",
    "                                                  steps_per_epoch=10000,\n",
    "                                                  validation_steps=10000,\n",
    "                                                  epochs=150,\n",
    "                                                  verbose=1,\n",
    "                                                  use_multiprocessing=True,\n",
    "                                                  workers=40,\n",
    "                                                  max_queue_size=100,\n",
    "                                                  callbacks=[EarlyStopping(patience=3,restore_best_weights=True),History()])"
   ]
  },
  {
   "cell_type": "code",
   "execution_count": 26,
   "metadata": {},
   "outputs": [
    {
     "name": "stdout",
     "output_type": "stream",
     "text": [
      "Epoch 1/150\n",
      "10000/10000 [==============================] - 201s 20ms/step - loss: 0.2856 - sensitivity: 0.7612 - specificity: 0.9284 - fpr: 0.0716 - fnr: 0.2388 - precision: nan - f1: nan - val_loss: 0.2202 - val_sensitivity: 0.8126 - val_specificity: 0.9522 - val_fpr: 0.0478 - val_fnr: 0.1875 - val_precision: 0.8814 - val_f1: 0.8427\n",
      "Epoch 2/150\n",
      "10000/10000 [==============================] - 180s 18ms/step - loss: 0.2274 - sensitivity: 0.8288 - specificity: 0.9417 - fpr: 0.0583 - fnr: 0.1712 - precision: 0.8619 - f1: 0.8422 - val_loss: 0.2052 - val_sensitivity: 0.8505 - val_specificity: 0.9459 - val_fpr: 0.0541 - val_fnr: 0.1495 - val_precision: 0.8730 - val_f1: 0.8592\n",
      "Epoch 3/150\n",
      "10000/10000 [==============================] - 181s 18ms/step - loss: 0.2204 - sensitivity: 0.8321 - specificity: 0.9450 - fpr: 0.0550 - fnr: 0.1679 - precision: 0.8691 - f1: 0.8474 - val_loss: 0.2047 - val_sensitivity: 0.8295 - val_specificity: 0.9572 - val_fpr: 0.0428 - val_fnr: 0.1705 - val_precision: 0.8946 - val_f1: 0.8581\n",
      "Epoch 4/150\n",
      "10000/10000 [==============================] - 180s 18ms/step - loss: 0.2162 - sensitivity: 0.8347 - specificity: 0.9464 - fpr: 0.0536 - fnr: 0.1653 - precision: 0.8723 - f1: 0.8504 - val_loss: 0.2117 - val_sensitivity: 0.7977 - val_specificity: 0.9655 - val_fpr: 0.0345 - val_fnr: 0.2023 - val_precision: 0.9099 - val_f1: 0.8472\n",
      "Epoch 5/150\n",
      "10000/10000 [==============================] - 181s 18ms/step - loss: 0.2134 - sensitivity: 0.8374 - specificity: 0.9471 - fpr: 0.0529 - fnr: 0.1626 - precision: 0.8738 - f1: 0.8527 - val_loss: 0.2041 - val_sensitivity: 0.8065 - val_specificity: 0.9661 - val_fpr: 0.0339 - val_fnr: 0.1935 - val_precision: 0.9125 - val_f1: 0.8534\n",
      "Epoch 6/150\n",
      "10000/10000 [==============================] - 184s 18ms/step - loss: 0.2136 - sensitivity: 0.8359 - specificity: 0.9470 - fpr: 0.0530 - fnr: 0.1641 - precision: 0.8736 - f1: 0.8518 - val_loss: 0.2134 - val_sensitivity: 0.7771 - val_specificity: 0.9721 - val_fpr: 0.0279 - val_fnr: 0.2229 - val_precision: 0.9244 - val_f1: 0.8412\n",
      "Epoch 7/150\n",
      "10000/10000 [==============================] - 183s 18ms/step - loss: 0.2113 - sensitivity: 0.8379 - specificity: 0.9480 - fpr: 0.0520 - fnr: 0.1621 - precision: 0.8759 - f1: 0.8539 - val_loss: 0.2091 - val_sensitivity: 0.8181 - val_specificity: 0.9637 - val_fpr: 0.0363 - val_fnr: 0.1819 - val_precision: 0.9080 - val_f1: 0.8580\n",
      "Epoch 8/150\n",
      "10000/10000 [==============================] - 192s 19ms/step - loss: 0.2107 - sensitivity: 0.8377 - specificity: 0.9486 - fpr: 0.0514 - fnr: 0.1623 - precision: 0.8769 - f1: 0.8543 - val_loss: 0.2130 - val_sensitivity: 0.7932 - val_specificity: 0.9696 - val_fpr: 0.0304 - val_fnr: 0.2068 - val_precision: 0.9195 - val_f1: 0.8488\n"
     ]
    }
   ],
   "source": [
    "#Train the CTCF model \n",
    "case2_ctcf_model=initialize_model()\n",
    "\n",
    "## use the keras fit_generator function to train the model with early stopping after 3 epochs \n",
    "history_case2_ctcf=case2_ctcf_model.fit_generator(case2_ctcf_train_gen,\n",
    "                                                  validation_data=case2_ctcf_valid_gen,\n",
    "                                                  steps_per_epoch=10000,\n",
    "                                                  validation_steps=10000,\n",
    "                                                  epochs=150,\n",
    "                                                  verbose=1,\n",
    "                                                  use_multiprocessing=True,\n",
    "                                                  workers=40,\n",
    "                                                  max_queue_size=100,\n",
    "                                                  callbacks=[EarlyStopping(patience=3,restore_best_weights=True),History()])"
   ]
  },
  {
   "cell_type": "code",
   "execution_count": 27,
   "metadata": {},
   "outputs": [
    {
     "data": {
      "image/png": "[encoded data removed]",
      "text/plain": [
       "<Figure size 720x288 with 1 Axes>"
      ]
     },
     "metadata": {},
     "output_type": "display_data"
    }
   ],
   "source": [
    "## Plot the learning curves for SPI1  \n",
    "plot_learning_curve(history_case2_spi1)"
   ]
  },
  {
   "cell_type": "code",
   "execution_count": 28,
   "metadata": {},
   "outputs": [
    {
     "data": {
      "image/png": "[encoded data removed]",
      "text/plain": [
       "<Figure size 720x288 with 1 Axes>"
      ]
     },
     "metadata": {},
     "output_type": "display_data"
    }
   ],
   "source": [
    "## Plot the learning curves for CTCF  \n",
    "plot_learning_curve(history_case2_ctcf)"
   ]
  },
  {
   "cell_type": "code",
   "execution_count": 29,
   "metadata": {},
   "outputs": [
    {
     "name": "stdout",
     "output_type": "stream",
     "text": [
      "6046/6046 [==============================] - 361s 60ms/step\n"
     ]
    }
   ],
   "source": [
    "#Get model predictions on the test set \n",
    "case2_spi1_test_gen=DataGenerator(\"TF.test.hdf5\",\n",
    "                                   \"hg19.genome.fa.gz\",\n",
    "                                     upsample=False,\n",
    "                                     add_revcomp=False,\n",
    "                                     batch_size=1000,\n",
    "                                     tasks=['SPI1'])\n",
    "case2_spi1_test_predictions=case2_spi1_model.predict_generator(case2_spi1_test_gen,\n",
    "                                                               max_queue_size=5000, \n",
    "                                                               workers=40, \n",
    "                                                               use_multiprocessing=True, \n",
    "                                                               verbose=1)\n"
   ]
  },
  {
   "cell_type": "code",
   "execution_count": 30,
   "metadata": {},
   "outputs": [
    {
     "name": "stdout",
     "output_type": "stream",
     "text": [
      "6046/6046 [==============================] - 347s 57ms/step\n"
     ]
    }
   ],
   "source": [
    "case2_ctcf_test_gen=DataGenerator(\"TF.test.hdf5\",\n",
    "                                   \"hg19.genome.fa.gz\",\n",
    "                                     upsample=False,\n",
    "                                     add_revcomp=False,\n",
    "                                     batch_size=1000,\n",
    "                                     tasks=['CTCF'])\n",
    "case2_ctcf_test_predictions=case2_ctcf_model.predict_generator(case2_ctcf_test_gen,max_queue_size=5000, workers=40, use_multiprocessing=True, verbose=1)\n"
   ]
  },
  {
   "cell_type": "code",
   "execution_count": 43,
   "metadata": {},
   "outputs": [
    {
     "name": "stdout",
     "output_type": "stream",
     "text": [
      "Loss: 0.1162\tBalanced Accuracy: 89.98%\t auROC: 0.975\t auPRC: 0.232\n",
      "\tRecall at 5%|10%|20% FDR: 0.0%|0.0%|0.3%\t Num Positives: 20189\t Num Negatives: 6025811\n"
     ]
    }
   ],
   "source": [
    "from dragonn.metrics import ClassificationResult\n",
    "## Generate a ClassificationResult object to print performance metrics on held-out test set \n",
    "print(ClassificationResult(spi1_test_truth,case2_spi1_test_predictions))"
   ]
  },
  {
   "cell_type": "code",
   "execution_count": 44,
   "metadata": {},
   "outputs": [
    {
     "name": "stdout",
     "output_type": "stream",
     "text": [
      "Loss: 0.1063\tBalanced Accuracy: 88.66%\t auROC: 0.974\t auPRC: 0.388\n",
      "\tRecall at 5%|10%|20% FDR: 0.1%|4.7%|12.8%\t Num Positives: 19611\t Num Negatives: 6026389\n"
     ]
    }
   ],
   "source": [
    "## Generate a ClassificationResult object to print performance metrics on held-out test set \n",
    "print(ClassificationResult(ctcf_test_truth,case2_ctcf_test_predictions))"
   ]
  },
  {
   "cell_type": "markdown",
   "metadata": {},
   "source": [
    "## Case 3: Whole-genome negatives, multi-tasked models <a name='6'>\n",
    "<a href=#outline>Home</a>"
   ]
  },
  {
   "cell_type": "code",
   "execution_count": 45,
   "metadata": {},
   "outputs": [],
   "source": [
    "#create the generators for multi-tasked models. Guarantee 10% positives in each batch \n",
    "case3_train_gen=DataGenerator(\"TF.train.hdf5\",\"hg19.genome.fa.gz\",upsample_ratio=0.3)\n",
    "case3_valid_gen=DataGenerator(\"TF.valid.hdf5\",\"hg19.genome.fa.gz\",upsample_ratio=0.3)"
   ]
  },
  {
   "cell_type": "code",
   "execution_count": 47,
   "metadata": {},
   "outputs": [
    {
     "name": "stdout",
     "output_type": "stream",
     "text": [
      "Epoch 1/10\n",
      "1000/1000 [==============================] - 45s 45ms/step - loss: 0.2606 - sensitivity: 0.0328 - specificity: 0.9937 - fpr: 0.0063 - fnr: 0.9672 - precision: nan - f1: nan - val_loss: 0.2536 - val_sensitivity: 0.0211 - val_specificity: 0.9985 - val_fpr: 0.0015 - val_fnr: 0.9789 - val_precision: nan - val_f1: nan\n",
      "Epoch 2/10\n",
      "1000/1000 [==============================] - 19s 19ms/step - loss: 0.2360 - sensitivity: 0.0588 - specificity: 0.9959 - fpr: 0.0041 - fnr: 0.9412 - precision: nan - f1: nan - val_loss: 0.2358 - val_sensitivity: 0.0560 - val_specificity: 0.9970 - val_fpr: 0.0030 - val_fnr: 0.9440 - val_precision: nan - val_f1: nan\n",
      "Epoch 3/10\n",
      "1000/1000 [==============================] - 18s 18ms/step - loss: 0.2224 - sensitivity: 0.1445 - specificity: 0.9914 - fpr: 0.0086 - fnr: 0.8555 - precision: nan - f1: nan - val_loss: 0.2192 - val_sensitivity: 0.1537 - val_specificity: 0.9929 - val_fpr: 0.0071 - val_fnr: 0.8463 - val_precision: nan - val_f1: nan\n",
      "Epoch 4/10\n",
      "1000/1000 [==============================] - 19s 19ms/step - loss: 0.2096 - sensitivity: 0.2009 - specificity: 0.9895 - fpr: 0.0105 - fnr: 0.7991 - precision: 0.6557 - f1: nan - val_loss: 0.2037 - val_sensitivity: 0.2223 - val_specificity: 0.9906 - val_fpr: 0.0094 - val_fnr: 0.7777 - val_precision: 0.6966 - val_f1: nan\n",
      "Epoch 5/10\n",
      "1000/1000 [==============================] - 19s 19ms/step - loss: 0.1979 - sensitivity: 0.2515 - specificity: 0.9885 - fpr: 0.0115 - fnr: 0.7485 - precision: 0.6844 - f1: 0.3604 - val_loss: 0.1908 - val_sensitivity: 0.2500 - val_specificity: 0.9923 - val_fpr: 0.0077 - val_fnr: 0.7500 - val_precision: 0.7644 - val_f1: nan\n",
      "Epoch 6/10\n",
      "1000/1000 [==============================] - 19s 19ms/step - loss: 0.1888 - sensitivity: 0.3349 - specificity: 0.9852 - fpr: 0.0148 - fnr: 0.6651 - precision: 0.6890 - f1: 0.4452 - val_loss: 0.1812 - val_sensitivity: 0.3415 - val_specificity: 0.9871 - val_fpr: 0.0129 - val_fnr: 0.6585 - val_precision: 0.7250 - val_f1: 0.4594\n",
      "Epoch 7/10\n",
      "1000/1000 [==============================] - 19s 19ms/step - loss: 0.1846 - sensitivity: 0.3663 - specificity: 0.9838 - fpr: 0.0162 - fnr: 0.6337 - precision: 0.6908 - f1: 0.4732 - val_loss: 0.1775 - val_sensitivity: 0.3949 - val_specificity: 0.9846 - val_fpr: 0.0154 - val_fnr: 0.6051 - val_precision: 0.7193 - val_f1: 0.5054\n",
      "Epoch 8/10\n",
      "1000/1000 [==============================] - 18s 18ms/step - loss: 0.1815 - sensitivity: 0.3876 - specificity: 0.9831 - fpr: 0.0169 - fnr: 0.6124 - precision: 0.6921 - f1: 0.4919 - val_loss: 0.1786 - val_sensitivity: 0.3358 - val_specificity: 0.9889 - val_fpr: 0.0111 - val_fnr: 0.6642 - val_precision: 0.7538 - val_f1: 0.4597\n",
      "Epoch 9/10\n",
      "1000/1000 [==============================] - 19s 19ms/step - loss: 0.1794 - sensitivity: 0.3925 - specificity: 0.9830 - fpr: 0.0170 - fnr: 0.6075 - precision: 0.6910 - f1: 0.4959 - val_loss: 0.1761 - val_sensitivity: 0.4199 - val_specificity: 0.9833 - val_fpr: 0.0167 - val_fnr: 0.5801 - val_precision: 0.7155 - val_f1: 0.5247\n",
      "Epoch 10/10\n",
      "1000/1000 [==============================] - 18s 18ms/step - loss: 0.1794 - sensitivity: 0.3951 - specificity: 0.9831 - fpr: 0.0169 - fnr: 0.6049 - precision: 0.6966 - f1: 0.4991 - val_loss: 0.1760 - val_sensitivity: 0.3481 - val_specificity: 0.9891 - val_fpr: 0.0109 - val_fnr: 0.6519 - val_precision: 0.7630 - val_f1: 0.4731\n"
     ]
    }
   ],
   "source": [
    "#Train the SPI1 model \n",
    "case3_model=initialize_model(4)\n",
    "\n",
    "## use the keras fit_generator function to train the model with early stopping after 3 epochs \n",
    "history_case3=case3_model.fit_generator(case3_train_gen,\n",
    "                                        validation_data=case3_valid_gen,\n",
    "                                        steps_per_epoch=1000,\n",
    "                                        validation_steps=1000,\n",
    "                                        epochs=10,\n",
    "                                        verbose=1,\n",
    "                                        use_multiprocessing=True,\n",
    "                                        workers=40,\n",
    "                                        max_queue_size=100,\n",
    "                                        callbacks=[EarlyStopping(patience=3,restore_best_weights=True),History()])"
   ]
  },
  {
   "cell_type": "code",
   "execution_count": 48,
   "metadata": {},
   "outputs": [
    {
     "data": {
      "image/png": "[encoded data removed]",
      "text/plain": [
       "<Figure size 720x288 with 1 Axes>"
      ]
     },
     "metadata": {},
     "output_type": "display_data"
    }
   ],
   "source": [
    "## Plot the learning curves for the multi-tasked model   \n",
    "plot_learning_curve(history_case3)"
   ]
  },
  {
   "cell_type": "code",
   "execution_count": 49,
   "metadata": {},
   "outputs": [
    {
     "name": "stdout",
     "output_type": "stream",
     "text": [
      "6046/6046 [==============================] - 364s 60ms/step\n"
     ]
    }
   ],
   "source": [
    "case3_test_gen=DataGenerator(\"TF.test.hdf5\",\n",
    "                             \"hg19.genome.fa.gz\",\n",
    "                             upsample=False,\n",
    "                             add_revcomp=False,\n",
    "                             batch_size=1000)\n",
    "case3_test_predictions=case3_model.predict_generator(case3_test_gen,\n",
    "                                                     max_queue_size=5000, \n",
    "                                                     workers=40, \n",
    "                                                     use_multiprocessing=True, \n",
    "                                                     verbose=1)\n"
   ]
  },
  {
   "cell_type": "code",
   "execution_count": 69,
   "metadata": {},
   "outputs": [],
   "source": [
    "test_truth=test_set[0:case3_test_predictions.shape[0]].astype(bool)"
   ]
  },
  {
   "cell_type": "code",
   "execution_count": 75,
   "metadata": {},
   "outputs": [
    {
     "data": {
      "text/plain": [
       "Index(['SPI1', 'CTCF', 'ZNF143', 'SIX5'], dtype='object')"
      ]
     },
     "execution_count": 75,
     "metadata": {},
     "output_type": "execute_result"
    }
   ],
   "source": [
    "test_truth.columns"
   ]
  },
  {
   "cell_type": "code",
   "execution_count": 73,
   "metadata": {},
   "outputs": [
    {
     "name": "stdout",
     "output_type": "stream",
     "text": [
      "Loss: 0.1097\tBalanced Accuracy: 67.10%\t auROC: 0.898\t auPRC: 0.047\n",
      "\tRecall at 5%|10%|20% FDR: 0.0%|0.0%|0.0%\t Num Positives: 20189\t Num Negatives: 6025811\n"
     ]
    }
   ],
   "source": [
    "## Generate a ClassificationResult object to print performance metrics on held-out test set \n",
    "print(ClassificationResult(np.expand_dims(test_truth['SPI1'],1),\n",
    "                           np.expand_dims(case3_test_predictions[:,0],1)))"
   ]
  },
  {
   "cell_type": "code",
   "execution_count": 76,
   "metadata": {},
   "outputs": [
    {
     "name": "stdout",
     "output_type": "stream",
     "text": [
      "Loss: 0.0500\tBalanced Accuracy: 75.13%\t auROC: 0.961\t auPRC: 0.278\n",
      "\tRecall at 5%|10%|20% FDR: 0.1%|0.3%|4.3%\t Num Positives: 19611\t Num Negatives: 6026389\n"
     ]
    }
   ],
   "source": [
    "## Generate a ClassificationResult object to print performance metrics on held-out test set \n",
    "print(ClassificationResult(np.expand_dims(test_truth['CTCF'],1),\n",
    "                           np.expand_dims(case3_test_predictions[:,1],1)))"
   ]
  },
  {
   "cell_type": "code",
   "execution_count": 77,
   "metadata": {},
   "outputs": [
    {
     "name": "stdout",
     "output_type": "stream",
     "text": [
      "Loss: 0.0494\tBalanced Accuracy: 59.65%\t auROC: 0.923\t auPRC: 0.078\n",
      "\tRecall at 5%|10%|20% FDR: 0.0%|0.0%|0.0%\t Num Positives: 18148\t Num Negatives: 6027852\n"
     ]
    }
   ],
   "source": [
    "## Generate a ClassificationResult object to print performance metrics on held-out test set \n",
    "print(ClassificationResult(np.expand_dims(test_truth['ZNF143'],1),\n",
    "                           np.expand_dims(case3_test_predictions[:,2],1)))"
   ]
  },
  {
   "cell_type": "code",
   "execution_count": 78,
   "metadata": {},
   "outputs": [
    {
     "name": "stdout",
     "output_type": "stream",
     "text": [
      "Loss: 0.0062\tBalanced Accuracy: 50.00%\t auROC: 0.947\t auPRC: 0.048\n",
      "\tRecall at 5%|10%|20% FDR: 0.0%|0.0%|0.0%\t Num Positives: 3770\t Num Negatives: 6042230\n"
     ]
    }
   ],
   "source": [
    "## Generate a ClassificationResult object to print performance metrics on held-out test set \n",
    "print(ClassificationResult(np.expand_dims(test_truth['SIX5'],1),\n",
    "                           np.expand_dims(case3_test_predictions[:,3],1)))"
   ]
  },
  {
   "cell_type": "markdown",
   "metadata": {},
   "source": [
    "## Case 4: What happens if we don't upsample positive examples in our batches? <a name='7'>\n",
    "<a href=#outline>Home</a>"
   ]
  },
  {
   "cell_type": "code",
   "execution_count": 79,
   "metadata": {},
   "outputs": [],
   "source": [
    "#create the generators\n",
    "case4_spi1_train_gen=DataGenerator(\"TF.train.hdf5\",\"hg19.genome.fa.gz\",tasks=[\"SPI1\"],upsample=False)\n",
    "case4_spi1_valid_gen=DataGenerator(\"TF.valid.hdf5\",\"hg19.genome.fa.gz\",tasks=[\"SPI1\"],upsample=False)"
   ]
  },
  {
   "cell_type": "code",
   "execution_count": 81,
   "metadata": {},
   "outputs": [
    {
     "name": "stdout",
     "output_type": "stream",
     "text": [
      "Epoch 1/10\n",
      "1000/1000 [==============================] - 77s 77ms/step - loss: 0.0547 - sensitivity: nan - specificity: 0.9976 - fpr: 0.0024 - fnr: nan - precision: nan - f1: nan - val_loss: 0.0529 - val_sensitivity: nan - val_specificity: 1.0000 - val_fpr: 0.0000e+00 - val_fnr: nan - val_precision: nan - val_f1: nan\n",
      "Epoch 2/10\n",
      "1000/1000 [==============================] - 45s 45ms/step - loss: 0.0338 - sensitivity: nan - specificity: 1.0000 - fpr: 0.0000e+00 - fnr: nan - precision: nan - f1: nan - val_loss: 0.0242 - val_sensitivity: nan - val_specificity: 1.0000 - val_fpr: 0.0000e+00 - val_fnr: nan - val_precision: nan - val_f1: nan\n",
      "Epoch 3/10\n",
      "1000/1000 [==============================] - 46s 46ms/step - loss: 0.0431 - sensitivity: nan - specificity: 1.0000 - fpr: 0.0000e+00 - fnr: nan - precision: nan - f1: nan - val_loss: 0.0735 - val_sensitivity: nan - val_specificity: 1.0000 - val_fpr: 0.0000e+00 - val_fnr: nan - val_precision: nan - val_f1: nan\n",
      "Epoch 4/10\n",
      "1000/1000 [==============================] - 46s 46ms/step - loss: 0.0426 - sensitivity: nan - specificity: 1.0000 - fpr: 0.0000e+00 - fnr: nan - precision: nan - f1: nan - val_loss: 0.0927 - val_sensitivity: nan - val_specificity: 1.0000 - val_fpr: 0.0000e+00 - val_fnr: nan - val_precision: nan - val_f1: nan\n",
      "Epoch 5/10\n",
      "1000/1000 [==============================] - 46s 46ms/step - loss: 0.0494 - sensitivity: nan - specificity: 1.0000 - fpr: 0.0000e+00 - fnr: nan - precision: nan - f1: nan - val_loss: 0.0413 - val_sensitivity: nan - val_specificity: 1.0000 - val_fpr: 0.0000e+00 - val_fnr: nan - val_precision: nan - val_f1: nan\n"
     ]
    }
   ],
   "source": [
    "#Train the SPI1 model \n",
    "case4_spi1_model=initialize_model()\n",
    "\n",
    "## use the keras fit_generator function to train the model with early stopping after 3 epochs \n",
    "history_case4_spi1=case4_spi1_model.fit_generator(case4_spi1_train_gen,\n",
    "                                                  validation_data=case4_spi1_valid_gen,\n",
    "                                                  steps_per_epoch=1000,\n",
    "                                                  validation_steps=1000,\n",
    "                                                  epochs=10,\n",
    "                                                  verbose=1,\n",
    "                                                  use_multiprocessing=True,\n",
    "                                                  workers=40,\n",
    "                                                  max_queue_size=100,\n",
    "                                                  callbacks=[EarlyStopping(patience=3,restore_best_weights=True),History()])"
   ]
  },
  {
   "cell_type": "code",
   "execution_count": 82,
   "metadata": {},
   "outputs": [
    {
     "data": {
      "image/png": "[encoded data removed]",
      "text/plain": [
       "<Figure size 720x288 with 1 Axes>"
      ]
     },
     "metadata": {},
     "output_type": "display_data"
    }
   ],
   "source": [
    "## Plot the learning curves for SPI1  \n",
    "plot_learning_curve(history_case4_spi1)"
   ]
  },
  {
   "cell_type": "code",
   "execution_count": 83,
   "metadata": {},
   "outputs": [
    {
     "name": "stdout",
     "output_type": "stream",
     "text": [
      "6046/6046 [==============================] - 354s 59ms/step\n"
     ]
    }
   ],
   "source": [
    "#We  use a custom batch_predict function to generate predictions on the test set, one batch at a time \n",
    "case4_spi1_test_gen=DataGenerator(\"TF.test.hdf5\",\n",
    "                                   \"hg19.genome.fa.gz\",\n",
    "                                     upsample=False,\n",
    "                                     add_revcomp=False,\n",
    "                                     batch_size=1000,\n",
    "                                     tasks=['SPI1'])\n",
    "case4_spi1_test_predictions=case4_spi1_model.predict_generator(case4_spi1_test_gen,max_queue_size=5000, workers=40, use_multiprocessing=True, verbose=1)\n"
   ]
  },
  {
   "cell_type": "code",
   "execution_count": 84,
   "metadata": {},
   "outputs": [
    {
     "name": "stdout",
     "output_type": "stream",
     "text": [
      "Loss: 0.1153\tBalanced Accuracy: 50.00%\t auROC: 0.486\t auPRC: 0.002\n",
      "\tRecall at 5%|10%|20% FDR: 0.0%|0.0%|0.0%\t Num Positives: 20189\t Num Negatives: 6025811\n"
     ]
    }
   ],
   "source": [
    "\n",
    "## Generate a ClassificationResult object to print performance metrics on held-out test set \n",
    "print(ClassificationResult(spi1_test_truth,case4_spi1_test_predictions))\n"
   ]
  },
  {
   "cell_type": "markdown",
   "metadata": {},
   "source": [
    "## Genome-wide interpretation of true positive predictions in SPI1, with DeepLIFT <a name='8'>\n",
    "<a href=#outline>Home</a>\n",
    "\n",
    "The highest test set auPRC was observed in Case 2 -- the single-tasked, genome-wide, SPI1 model with upsampling of positives. Let's run DeepLIFT on some high-confidence true positives. \n"
   ]
  },
  {
   "cell_type": "code",
   "execution_count": 97,
   "metadata": {},
   "outputs": [
    {
     "data": {
      "text/plain": [
       "<bound method NDFrame.head of                          SPI1   CTCF  ZNF143   SIX5\n",
       "CHR   START    END                                 \n",
       "chr2  191500   192500    True  False   False  False\n",
       "      191550   192550    True  False   False  False\n",
       "      191600   192600    True  False   False  False\n",
       "      191650   192650    True  False   False  False\n",
       "      215700   216700    True  False   False  False\n",
       "      215750   216750    True  False   False  False\n",
       "      215800   216800    True  False   False  False\n",
       "      215850   216850    True  False   False  False\n",
       "      257050   258050    True  False   False  False\n",
       "      257100   258100    True  False   False  False\n",
       "      257150   258150    True  False   False  False\n",
       "      257200   258200    True  False   False  False\n",
       "      268950   269950    True  False   False  False\n",
       "      269000   270000    True  False   False  False\n",
       "      269050   270050    True  False   False  False\n",
       "      269100   270100    True  False   False  False\n",
       "      275050   276050    True  False   False  False\n",
       "      275100   276100    True  False   False  False\n",
       "      275150   276150    True  False   False  False\n",
       "      275200   276200    True  False   False  False\n",
       "      437600   438600    True  False   False  False\n",
       "      437650   438650    True  False   False  False\n",
       "      437700   438700    True  False   False  False\n",
       "      437750   438750    True  False   False  False\n",
       "      441400   442400    True  False   False  False\n",
       "      441450   442450    True  False   False  False\n",
       "      441500   442500    True  False   False  False\n",
       "      441550   442550    True  False   False  False\n",
       "      464500   465500    True   True   False  False\n",
       "      464550   465550    True   True   False  False\n",
       "...                       ...    ...     ...    ...\n",
       "chr19 59029450 59030450  True  False   False  False\n",
       "      59029500 59030500  True  False   False  False\n",
       "      59030550 59031550  True   True   False  False\n",
       "      59030600 59031600  True   True   False  False\n",
       "      59030650 59031650  True  False   False  False\n",
       "      59030700 59031700  True  False    True   True\n",
       "      59054900 59055900  True  False   False  False\n",
       "      59054950 59055950  True  False   False  False\n",
       "      59055000 59056000  True  False   False  False\n",
       "      59055050 59056050  True  False   False  False\n",
       "      59070450 59071450  True  False    True   True\n",
       "      59070500 59071500  True  False    True   True\n",
       "      59070550 59071550  True  False    True   True\n",
       "      59070600 59071600  True  False    True   True\n",
       "      59083600 59084600  True  False   False   True\n",
       "      59083650 59084650  True  False   False   True\n",
       "      59083700 59084700  True  False   False   True\n",
       "      59083750 59084750  True  False   False   True\n",
       "      59084250 59085250  True  False   False  False\n",
       "      59084300 59085300  True  False   False  False\n",
       "      59084350 59085350  True  False   False  False\n",
       "      59084400 59085400  True  False   False  False\n",
       "      59086450 59087450  True  False    True  False\n",
       "      59086500 59087500  True  False    True  False\n",
       "      59086550 59087550  True  False    True  False\n",
       "      59086600 59087600  True  False   False  False\n",
       "      59095550 59096550  True  False   False  False\n",
       "      59095600 59096600  True  False   False  False\n",
       "      59095650 59096650  True  False   False  False\n",
       "      59095700 59096700  True  False   False  False\n",
       "\n",
       "[20189 rows x 4 columns]>"
      ]
     },
     "execution_count": 97,
     "metadata": {},
     "output_type": "execute_result"
    }
   ],
   "source": [
    "#get the true positive predictions with a threshold of 0.9 (i.e. high confidence true positive predictions)\n",
    "true_pos_spi1=test_truth[spi1_test_truth*case2_spi1_test_predictions >0.9]\n",
    "true_pos_spi1.head"
   ]
  },
  {
   "cell_type": "code",
   "execution_count": 98,
   "metadata": {},
   "outputs": [
    {
     "data": {
      "text/plain": [
       "(20189, 4)"
      ]
     },
     "execution_count": 98,
     "metadata": {},
     "output_type": "execute_result"
    }
   ],
   "source": [
    "true_pos_spi1.shape"
   ]
  },
  {
   "cell_type": "code",
   "execution_count": 100,
   "metadata": {},
   "outputs": [],
   "source": [
    "from dragonn.utils import one_hot_from_bed\n",
    "deep_lift_input_spi1=one_hot_from_bed([i for i in true_pos_spi1.index],\"hg19.genome.fa.gz\")\n",
    "deep_lift_input_spi1.shape"
   ]
  },
  {
   "cell_type": "code",
   "execution_count": null,
   "metadata": {},
   "outputs": [],
   "source": [
    "from dragonn.tutorial_utils import deeplift "
   ]
  },
  {
   "cell_type": "code",
   "execution_count": 102,
   "metadata": {},
   "outputs": [],
   "source": [
    "deep_lift_scores_spi1=deeplift(case2_spi1_model,deep_lift_input_spi1)"
   ]
  },
  {
   "cell_type": "code",
   "execution_count": 103,
   "metadata": {},
   "outputs": [
    {
     "data": {
      "text/plain": [
       "(20189, 1, 1000, 4)"
      ]
     },
     "execution_count": 103,
     "metadata": {},
     "output_type": "execute_result"
    }
   ],
   "source": [
    "deep_lift_scores_spi1.shape"
   ]
  },
  {
   "cell_type": "markdown",
   "metadata": {},
   "source": [
    "Let's plot a few of the DeepLIFT tracks and see if the model successfully learned SPI1:"
   ]
  },
  {
   "cell_type": "code",
   "execution_count": 111,
   "metadata": {},
   "outputs": [],
   "source": [
    "from dragonn.tutorial_utils import  plot_seq_importance"
   ]
  },
  {
   "cell_type": "code",
   "execution_count": 108,
   "metadata": {},
   "outputs": [
    {
     "data": {
      "image/png": "[encoded data removed]",
      "text/plain": [
       "<Figure size 1800x216 with 1 Axes>"
      ]
     },
     "metadata": {},
     "output_type": "display_data"
    }
   ],
   "source": [
    "plot_seq_importance(deep_lift_scores_spi1[0],deep_lift_input_spi1[0])"
   ]
  },
  {
   "cell_type": "code",
   "execution_count": 109,
   "metadata": {},
   "outputs": [
    {
     "data": {
      "image/png": "[encoded data removed]",
      "text/plain": [
       "<Figure size 1800x216 with 1 Axes>"
      ]
     },
     "metadata": {},
     "output_type": "display_data"
    }
   ],
   "source": [
    "plot_seq_importance(deep_lift_scores_spi1[1],deep_lift_input_spi1[1])"
   ]
  },
  {
   "cell_type": "code",
   "execution_count": 110,
   "metadata": {},
   "outputs": [
    {
     "data": {
      "image/png": "[encoded data removed]",
      "text/plain": [
       "<Figure size 1800x216 with 1 Axes>"
      ]
     },
     "metadata": {},
     "output_type": "display_data"
    }
   ],
   "source": [
    "plot_seq_importance(deep_lift_scores_spi1[2],deep_lift_input[2])"
   ]
  },
  {
   "cell_type": "markdown",
   "metadata": {},
   "source": [
    "Let's zoom in to the center of one sequence so that it is easier to distinguish the motif: "
   ]
  },
  {
   "cell_type": "code",
   "execution_count": 126,
   "metadata": {},
   "outputs": [
    {
     "data": {
      "image/png": "[encoded data removed]",
      "text/plain": [
       "<Figure size 1800x216 with 1 Axes>"
      ]
     },
     "metadata": {},
     "output_type": "display_data"
    }
   ],
   "source": [
    "plot_seq_importance(deep_lift_scores[2].squeeze()[400:500],deep_lift_input[2].squeeze()[400:500])"
   ]
  },
  {
   "cell_type": "markdown",
   "metadata": {},
   "source": [
    "If we query the sequence \"GTTTCACTTC\" in the [TomTom](http://meme-suite.org/tools/tomtom) software from the MEME suite, we find that the motif is a good match for IRF2, which is in the same motif family (Tryptophan cluster factors) as SPI1: \n",
    "<img src=\"tutorial_images/IRF.Tut4.png\" alt=\"IRF2TomTom\" width=\"400\"/>\n"
   ]
  },
  {
   "cell_type": "markdown",
   "metadata": {},
   "source": [
    "Let's interpret the high-confidence true positives from the CTCF model"
   ]
  },
  {
   "cell_type": "code",
   "execution_count": null,
   "metadata": {},
   "outputs": [],
   "source": [
    "#get the true positive predictions with a threshold of 0.9 (i.e. high confidence predictions)\n",
    "true_pos_ctcf=test_truth[ctcf_test_truth*case2_ctcf_test_predictions >0.9]\n",
    "true_pos_ctcf.shape"
   ]
  },
  {
   "cell_type": "code",
   "execution_count": 127,
   "metadata": {},
   "outputs": [],
   "source": [
    "deep_lift_input_ctcf=one_hot_from_bed([i for i in true_pos_ctcf.index],\"hg19.genome.fa.gz\")"
   ]
  },
  {
   "cell_type": "code",
   "execution_count": 128,
   "metadata": {},
   "outputs": [],
   "source": [
    "deep_lift_scores_ctcf=deeplift(case2_ctcf_model,deep_lift_input_ctcf)"
   ]
  },
  {
   "cell_type": "code",
   "execution_count": 131,
   "metadata": {},
   "outputs": [
    {
     "data": {
      "image/png": "[encoded data removed]",
      "text/plain": [
       "<Figure size 1800x216 with 1 Axes>"
      ]
     },
     "metadata": {},
     "output_type": "display_data"
    }
   ],
   "source": [
    "plot_seq_importance(deep_lift_scores_ctcf[0],deep_lift_input_ctcf[0])"
   ]
  },
  {
   "cell_type": "code",
   "execution_count": 132,
   "metadata": {},
   "outputs": [
    {
     "data": {
      "image/png": "[encoded data removed]",
      "text/plain": [
       "<Figure size 1800x216 with 1 Axes>"
      ]
     },
     "metadata": {},
     "output_type": "display_data"
    }
   ],
   "source": [
    "plot_seq_importance(deep_lift_scores_ctcf[1],deep_lift_input_ctcf[1])"
   ]
  },
  {
   "cell_type": "code",
   "execution_count": 133,
   "metadata": {},
   "outputs": [
    {
     "data": {
      "image/png": "[encoded data removed]",
      "text/plain": [
       "<Figure size 1800x216 with 1 Axes>"
      ]
     },
     "metadata": {},
     "output_type": "display_data"
    }
   ],
   "source": [
    "plot_seq_importance(deep_lift_scores_ctcf[2],deep_lift_input_ctcf[2])"
   ]
  },
  {
   "cell_type": "markdown",
   "metadata": {},
   "source": [
    "Zooming in:"
   ]
  },
  {
   "cell_type": "code",
   "execution_count": 135,
   "metadata": {},
   "outputs": [
    {
     "data": {
      "image/png": "[encoded data removed]",
      "text/plain": [
       "<Figure size 1800x216 with 1 Axes>"
      ]
     },
     "metadata": {},
     "output_type": "display_data"
    }
   ],
   "source": [
    "plot_seq_importance(deep_lift_scores_ctcf[0].squeeze()[500:600],deep_lift_input_ctcf[0].squeeze()[500:600])"
   ]
  },
  {
   "cell_type": "markdown",
   "metadata": {},
   "source": [
    "Querying the sequence \"CGCCCTCTGCTGGC\" in TomTom confirms a strong match to the canonical CTCF motif:\n",
    "<img src=\"tutorial_images/CTCF.Tut4.png\" alt=\"CTCFTomTom\" width=\"400\"/>\n"
   ]
  },
  {
   "cell_type": "markdown",
   "metadata": {},
   "source": [
    "## Conclusions <a name='9'>\n",
    "<a href=#outline>Home</a>"
   ]
  },
  {
   "cell_type": "markdown",
   "metadata": {},
   "source": [
    "From our analysis of *in vivo* transcription factor ChiP-seq datasets, we draw the following conclusions: \n",
    "\n",
    "* Training the models genome-wide by splitting the genome into short (200 bp), overlapping (stride=50) bins leads to improved generalization performance on the test set as compared to \"easier\" negative sets. I.E we observed superior test set performance for both the SPI1 and CTCF tasks when training on the whole genome as compared to using shuffled reference negatives. \n",
    "\n",
    "\n",
    "* Due to high class imbalance in *in vivo* data, it is necessary to upsample positive examples in each batch to facilitate model training. We found that upsampling positives to constitute 30% of each batch worked well --i.e. interpretation with DeepLIFT indicates the model learned the correct motif in CTCF and SPI1 ChIP-seq datasets. What happens if you alter the *upsample_ratio* parameter in the generator function? Does the model learn equally well with *upsample_ratio=0.1*? Does it learn better or worse with *upsample_ratio=0.5*? \n",
    "\n",
    "\n",
    "* Multi-tasking can lead to improved performance for tasks that are similar (i.e. CTCF/ZNF143/SIX5 are similar motifs). However, multi-tasking does not improve performance on tasks that are different (i.e. the SPI1 motif does not resemble the other three motifs, so multi-tasking does not improve performance for the SPI1 task). \n"
   ]
  },
  {
   "cell_type": "markdown",
   "metadata": {},
   "source": [
    "## Save tutorial outputs <a name='10'>\n",
    "<a href=#outline>Home</a>\n",
    "\n",
    "We save the models and test set predictions generated in this tutorial to an hdf5 file so that they can be loaded more readily in the future. "
   ]
  },
  {
   "cell_type": "code",
   "execution_count": 139,
   "metadata": {},
   "outputs": [],
   "source": [
    "#save the models \n",
    "case1_spi1_model.save(\"case1_spi1_model.hdf5\")\n",
    "case1_ctcf_model.save(\"case1_ctcf_model.hdf5\")\n",
    "case2_spi1_model.save(\"case2_spi1_model.hdf5\")\n",
    "case2_ctcf_model.save(\"case2_ctcf_model.hdf5\")\n",
    "case3_model.save(\"case3_model.hdf5\")\n",
    "case4_spi1_model.save(\"case4_spi1_model.hdf5\")"
   ]
  },
  {
   "cell_type": "code",
   "execution_count": 158,
   "metadata": {},
   "outputs": [],
   "source": [
    "#save the test set predictions \n",
    "import h5py \n",
    "test_set_predictions=h5py.File(\"test_set_predictions.hdf5\",'w')\n",
    "test_set_predictions.create_dataset(\"case1_spi1_test_predictions\",data=case1_spi1_test_predictions)\n",
    "test_set_predictions.create_dataset(\"case1_ctcf_test_predictions\",data=case1_ctcf_test_predictions)\n",
    "test_set_predictions.create_dataset(\"case2_spi1_test_predictions\",data=case2_spi1_test_predictions)\n",
    "test_set_predictions.create_dataset(\"case2_ctcf_test_predictions\",data=case2_ctcf_test_predictions)\n",
    "test_set_predictions.create_dataset(\"case3_test_predictions\",data=case3_test_predictions)\n",
    "test_set_predictions.create_dataset(\"case4_spi1_test_predictions\",data=case4_spi1_test_predictions)\n",
    "test_set_predictions.close() "
   ]
  }
 ],
 "metadata": {
  "kernelspec": {
   "display_name": "Python 3",
   "language": "python",
   "name": "python3"
  },
  "language_info": {
   "codemirror_mode": {
    "name": "ipython",
    "version": 3
   },
   "file_extension": ".py",
   "mimetype": "text/x-python",
   "name": "python",
   "nbconvert_exporter": "python",
   "pygments_lexer": "ipython3",
   "version": "3.6.5"
  }
 },
 "nbformat": 4,
 "nbformat_minor": 2
}
